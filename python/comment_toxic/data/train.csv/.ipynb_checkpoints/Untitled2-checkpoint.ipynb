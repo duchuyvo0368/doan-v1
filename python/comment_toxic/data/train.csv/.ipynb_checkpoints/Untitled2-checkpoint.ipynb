{
 "nbformat": 4,
 "nbformat_minor": 0,
 "metadata": {
  "colab": {
   "provenance": [],
   "toc_visible": true
  },
  "kernelspec": {
   "name": "python3",
   "display_name": "Python 3"
  },
  "language_info": {
   "name": "python"
  }
 },
 "cells": [
  {
   "cell_type": "code",
   "metadata": {
    "id": "HuvZM-2kY5kP",
    "jupyter": {
     "is_executing": true
    }
   },
   "source": [
    "import tensorflow as tf\n",
    "import os\n",
    "import pandas as pd\n",
    "import numpy as np\n"
   ],
   "outputs": [],
   "execution_count": null
  },
  {
   "cell_type": "code",
   "source": [
    "# Avoid OOM errors by setting GPU Memory Consumption Growth\n",
    "gpus = tf.config.experimental.list_physical_devices('GPU')\n",
    "for gpu in gpus:\n",
    "    tf.config.experimental.set_memory_growth(gpu, True)"
   ],
   "metadata": {
    "id": "O2jDFqkOZBek"
   },
   "execution_count": 53,
   "outputs": []
  },
  {
   "cell_type": "code",
   "source": [
    "print(tf.__version__)\n"
   ],
   "metadata": {
    "colab": {
     "base_uri": "https://localhost:8080/"
    },
    "id": "dKVtaP9XZyj-",
    "outputId": "86703b9e-d8e8-49de-fa48-a0ad57712000"
   },
   "execution_count": 54,
   "outputs": [
    {
     "output_type": "stream",
     "name": "stdout",
     "text": [
      "2.17.0\n"
     ]
    }
   ]
  },
  {
   "cell_type": "code",
   "source": [
    "tf.config.list_physical_devices('GPU')"
   ],
   "metadata": {
    "colab": {
     "base_uri": "https://localhost:8080/"
    },
    "id": "lJe0MatBZEwf",
    "outputId": "44ded636-8dd3-4f22-a228-9dbe0a4cecdf"
   },
   "execution_count": 55,
   "outputs": [
    {
     "output_type": "execute_result",
     "data": {
      "text/plain": [
       "[]"
      ]
     },
     "metadata": {},
     "execution_count": 55
    }
   ]
  },
  {
   "cell_type": "code",
   "source": "df=pd.read_csv('train.csv')",
   "metadata": {
    "id": "1D-aqxhZZS7y"
   },
   "execution_count": 100,
   "outputs": []
  },
  {
   "cell_type": "code",
   "source": [
    "df"
   ],
   "metadata": {
    "colab": {
     "base_uri": "https://localhost:8080/",
     "height": 424
    },
    "id": "F3UM_zpIa3nl",
    "outputId": "a268a729-6fea-46c5-a2a0-792c1014d013"
   },
   "execution_count": 101,
   "outputs": [
    {
     "output_type": "execute_result",
     "data": {
      "text/plain": [
       "                      id                                       comment_text  \\\n",
       "0       0000997932d777bf  Explanation\\r\\nWhy the edits made under my use...   \n",
       "1       000103f0d9cfb60f  D'aww! He matches this background colour I'm s...   \n",
       "2       000113f07ec002fd  Hey man, I'm really not trying to edit war. It...   \n",
       "3       0001b41b1c6bb37e  \"\\r\\nMore\\r\\nI can't make any real suggestions...   \n",
       "4       0001d958c54c6e35  You, sir, are my hero. Any chance you remember...   \n",
       "...                  ...                                                ...   \n",
       "159566  ffe987279560d7ff  \":::::And for the second time of asking, when ...   \n",
       "159567  ffea4adeee384e90  You should be ashamed of yourself \\r\\n\\r\\nThat...   \n",
       "159568  ffee36eab5c267c9  Spitzer \\r\\n\\r\\nUmm, theres no actual article ...   \n",
       "159569  fff125370e4aaaf3  And it looks like it was actually you who put ...   \n",
       "159570  fff46fc426af1f9a  \"\\r\\nAnd ... I really don't think you understa...   \n",
       "\n",
       "        toxic  severe_toxic  obscene  threat  insult  identity_hate  \n",
       "0           0             0        0       0       0              0  \n",
       "1           0             0        0       0       0              0  \n",
       "2           0             0        0       0       0              0  \n",
       "3           0             0        0       0       0              0  \n",
       "4           0             0        0       0       0              0  \n",
       "...       ...           ...      ...     ...     ...            ...  \n",
       "159566      0             0        0       0       0              0  \n",
       "159567      0             0        0       0       0              0  \n",
       "159568      0             0        0       0       0              0  \n",
       "159569      0             0        0       0       0              0  \n",
       "159570      0             0        0       0       0              0  \n",
       "\n",
       "[159571 rows x 8 columns]"
      ],
      "text/html": [
       "\n",
       "  <div id=\"df-e3097e48-659d-4554-a7e9-c7cce86a9f98\" class=\"colab-df-container\">\n",
       "    <div>\n",
       "<style scoped>\n",
       "    .dataframe tbody tr th:only-of-type {\n",
       "        vertical-align: middle;\n",
       "    }\n",
       "\n",
       "    .dataframe tbody tr th {\n",
       "        vertical-align: top;\n",
       "    }\n",
       "\n",
       "    .dataframe thead th {\n",
       "        text-align: right;\n",
       "    }\n",
       "</style>\n",
       "<table border=\"1\" class=\"dataframe\">\n",
       "  <thead>\n",
       "    <tr style=\"text-align: right;\">\n",
       "      <th></th>\n",
       "      <th>id</th>\n",
       "      <th>comment_text</th>\n",
       "      <th>toxic</th>\n",
       "      <th>severe_toxic</th>\n",
       "      <th>obscene</th>\n",
       "      <th>threat</th>\n",
       "      <th>insult</th>\n",
       "      <th>identity_hate</th>\n",
       "    </tr>\n",
       "  </thead>\n",
       "  <tbody>\n",
       "    <tr>\n",
       "      <th>0</th>\n",
       "      <td>0000997932d777bf</td>\n",
       "      <td>Explanation\\r\\nWhy the edits made under my use...</td>\n",
       "      <td>0</td>\n",
       "      <td>0</td>\n",
       "      <td>0</td>\n",
       "      <td>0</td>\n",
       "      <td>0</td>\n",
       "      <td>0</td>\n",
       "    </tr>\n",
       "    <tr>\n",
       "      <th>1</th>\n",
       "      <td>000103f0d9cfb60f</td>\n",
       "      <td>D'aww! He matches this background colour I'm s...</td>\n",
       "      <td>0</td>\n",
       "      <td>0</td>\n",
       "      <td>0</td>\n",
       "      <td>0</td>\n",
       "      <td>0</td>\n",
       "      <td>0</td>\n",
       "    </tr>\n",
       "    <tr>\n",
       "      <th>2</th>\n",
       "      <td>000113f07ec002fd</td>\n",
       "      <td>Hey man, I'm really not trying to edit war. It...</td>\n",
       "      <td>0</td>\n",
       "      <td>0</td>\n",
       "      <td>0</td>\n",
       "      <td>0</td>\n",
       "      <td>0</td>\n",
       "      <td>0</td>\n",
       "    </tr>\n",
       "    <tr>\n",
       "      <th>3</th>\n",
       "      <td>0001b41b1c6bb37e</td>\n",
       "      <td>\"\\r\\nMore\\r\\nI can't make any real suggestions...</td>\n",
       "      <td>0</td>\n",
       "      <td>0</td>\n",
       "      <td>0</td>\n",
       "      <td>0</td>\n",
       "      <td>0</td>\n",
       "      <td>0</td>\n",
       "    </tr>\n",
       "    <tr>\n",
       "      <th>4</th>\n",
       "      <td>0001d958c54c6e35</td>\n",
       "      <td>You, sir, are my hero. Any chance you remember...</td>\n",
       "      <td>0</td>\n",
       "      <td>0</td>\n",
       "      <td>0</td>\n",
       "      <td>0</td>\n",
       "      <td>0</td>\n",
       "      <td>0</td>\n",
       "    </tr>\n",
       "    <tr>\n",
       "      <th>...</th>\n",
       "      <td>...</td>\n",
       "      <td>...</td>\n",
       "      <td>...</td>\n",
       "      <td>...</td>\n",
       "      <td>...</td>\n",
       "      <td>...</td>\n",
       "      <td>...</td>\n",
       "      <td>...</td>\n",
       "    </tr>\n",
       "    <tr>\n",
       "      <th>159566</th>\n",
       "      <td>ffe987279560d7ff</td>\n",
       "      <td>\":::::And for the second time of asking, when ...</td>\n",
       "      <td>0</td>\n",
       "      <td>0</td>\n",
       "      <td>0</td>\n",
       "      <td>0</td>\n",
       "      <td>0</td>\n",
       "      <td>0</td>\n",
       "    </tr>\n",
       "    <tr>\n",
       "      <th>159567</th>\n",
       "      <td>ffea4adeee384e90</td>\n",
       "      <td>You should be ashamed of yourself \\r\\n\\r\\nThat...</td>\n",
       "      <td>0</td>\n",
       "      <td>0</td>\n",
       "      <td>0</td>\n",
       "      <td>0</td>\n",
       "      <td>0</td>\n",
       "      <td>0</td>\n",
       "    </tr>\n",
       "    <tr>\n",
       "      <th>159568</th>\n",
       "      <td>ffee36eab5c267c9</td>\n",
       "      <td>Spitzer \\r\\n\\r\\nUmm, theres no actual article ...</td>\n",
       "      <td>0</td>\n",
       "      <td>0</td>\n",
       "      <td>0</td>\n",
       "      <td>0</td>\n",
       "      <td>0</td>\n",
       "      <td>0</td>\n",
       "    </tr>\n",
       "    <tr>\n",
       "      <th>159569</th>\n",
       "      <td>fff125370e4aaaf3</td>\n",
       "      <td>And it looks like it was actually you who put ...</td>\n",
       "      <td>0</td>\n",
       "      <td>0</td>\n",
       "      <td>0</td>\n",
       "      <td>0</td>\n",
       "      <td>0</td>\n",
       "      <td>0</td>\n",
       "    </tr>\n",
       "    <tr>\n",
       "      <th>159570</th>\n",
       "      <td>fff46fc426af1f9a</td>\n",
       "      <td>\"\\r\\nAnd ... I really don't think you understa...</td>\n",
       "      <td>0</td>\n",
       "      <td>0</td>\n",
       "      <td>0</td>\n",
       "      <td>0</td>\n",
       "      <td>0</td>\n",
       "      <td>0</td>\n",
       "    </tr>\n",
       "  </tbody>\n",
       "</table>\n",
       "<p>159571 rows × 8 columns</p>\n",
       "</div>\n",
       "    <div class=\"colab-df-buttons\">\n",
       "\n",
       "  <div class=\"colab-df-container\">\n",
       "    <button class=\"colab-df-convert\" onclick=\"convertToInteractive('df-e3097e48-659d-4554-a7e9-c7cce86a9f98')\"\n",
       "            title=\"Convert this dataframe to an interactive table.\"\n",
       "            style=\"display:none;\">\n",
       "\n",
       "  <svg xmlns=\"http://www.w3.org/2000/svg\" height=\"24px\" viewBox=\"0 -960 960 960\">\n",
       "    <path d=\"M120-120v-720h720v720H120Zm60-500h600v-160H180v160Zm220 220h160v-160H400v160Zm0 220h160v-160H400v160ZM180-400h160v-160H180v160Zm440 0h160v-160H620v160ZM180-180h160v-160H180v160Zm440 0h160v-160H620v160Z\"/>\n",
       "  </svg>\n",
       "    </button>\n",
       "\n",
       "  <style>\n",
       "    .colab-df-container {\n",
       "      display:flex;\n",
       "      gap: 12px;\n",
       "    }\n",
       "\n",
       "    .colab-df-convert {\n",
       "      background-color: #E8F0FE;\n",
       "      border: none;\n",
       "      border-radius: 50%;\n",
       "      cursor: pointer;\n",
       "      display: none;\n",
       "      fill: #1967D2;\n",
       "      height: 32px;\n",
       "      padding: 0 0 0 0;\n",
       "      width: 32px;\n",
       "    }\n",
       "\n",
       "    .colab-df-convert:hover {\n",
       "      background-color: #E2EBFA;\n",
       "      box-shadow: 0px 1px 2px rgba(60, 64, 67, 0.3), 0px 1px 3px 1px rgba(60, 64, 67, 0.15);\n",
       "      fill: #174EA6;\n",
       "    }\n",
       "\n",
       "    .colab-df-buttons div {\n",
       "      margin-bottom: 4px;\n",
       "    }\n",
       "\n",
       "    [theme=dark] .colab-df-convert {\n",
       "      background-color: #3B4455;\n",
       "      fill: #D2E3FC;\n",
       "    }\n",
       "\n",
       "    [theme=dark] .colab-df-convert:hover {\n",
       "      background-color: #434B5C;\n",
       "      box-shadow: 0px 1px 3px 1px rgba(0, 0, 0, 0.15);\n",
       "      filter: drop-shadow(0px 1px 2px rgba(0, 0, 0, 0.3));\n",
       "      fill: #FFFFFF;\n",
       "    }\n",
       "  </style>\n",
       "\n",
       "    <script>\n",
       "      const buttonEl =\n",
       "        document.querySelector('#df-e3097e48-659d-4554-a7e9-c7cce86a9f98 button.colab-df-convert');\n",
       "      buttonEl.style.display =\n",
       "        google.colab.kernel.accessAllowed ? 'block' : 'none';\n",
       "\n",
       "      async function convertToInteractive(key) {\n",
       "        const element = document.querySelector('#df-e3097e48-659d-4554-a7e9-c7cce86a9f98');\n",
       "        const dataTable =\n",
       "          await google.colab.kernel.invokeFunction('convertToInteractive',\n",
       "                                                    [key], {});\n",
       "        if (!dataTable) return;\n",
       "\n",
       "        const docLinkHtml = 'Like what you see? Visit the ' +\n",
       "          '<a target=\"_blank\" href=https://colab.research.google.com/notebooks/data_table.ipynb>data table notebook</a>'\n",
       "          + ' to learn more about interactive tables.';\n",
       "        element.innerHTML = '';\n",
       "        dataTable['output_type'] = 'display_data';\n",
       "        await google.colab.output.renderOutput(dataTable, element);\n",
       "        const docLink = document.createElement('div');\n",
       "        docLink.innerHTML = docLinkHtml;\n",
       "        element.appendChild(docLink);\n",
       "      }\n",
       "    </script>\n",
       "  </div>\n",
       "\n",
       "\n",
       "<div id=\"df-f6dea758-f750-4037-b360-b15e9c2acb0c\">\n",
       "  <button class=\"colab-df-quickchart\" onclick=\"quickchart('df-f6dea758-f750-4037-b360-b15e9c2acb0c')\"\n",
       "            title=\"Suggest charts\"\n",
       "            style=\"display:none;\">\n",
       "\n",
       "<svg xmlns=\"http://www.w3.org/2000/svg\" height=\"24px\"viewBox=\"0 0 24 24\"\n",
       "     width=\"24px\">\n",
       "    <g>\n",
       "        <path d=\"M19 3H5c-1.1 0-2 .9-2 2v14c0 1.1.9 2 2 2h14c1.1 0 2-.9 2-2V5c0-1.1-.9-2-2-2zM9 17H7v-7h2v7zm4 0h-2V7h2v10zm4 0h-2v-4h2v4z\"/>\n",
       "    </g>\n",
       "</svg>\n",
       "  </button>\n",
       "\n",
       "<style>\n",
       "  .colab-df-quickchart {\n",
       "      --bg-color: #E8F0FE;\n",
       "      --fill-color: #1967D2;\n",
       "      --hover-bg-color: #E2EBFA;\n",
       "      --hover-fill-color: #174EA6;\n",
       "      --disabled-fill-color: #AAA;\n",
       "      --disabled-bg-color: #DDD;\n",
       "  }\n",
       "\n",
       "  [theme=dark] .colab-df-quickchart {\n",
       "      --bg-color: #3B4455;\n",
       "      --fill-color: #D2E3FC;\n",
       "      --hover-bg-color: #434B5C;\n",
       "      --hover-fill-color: #FFFFFF;\n",
       "      --disabled-bg-color: #3B4455;\n",
       "      --disabled-fill-color: #666;\n",
       "  }\n",
       "\n",
       "  .colab-df-quickchart {\n",
       "    background-color: var(--bg-color);\n",
       "    border: none;\n",
       "    border-radius: 50%;\n",
       "    cursor: pointer;\n",
       "    display: none;\n",
       "    fill: var(--fill-color);\n",
       "    height: 32px;\n",
       "    padding: 0;\n",
       "    width: 32px;\n",
       "  }\n",
       "\n",
       "  .colab-df-quickchart:hover {\n",
       "    background-color: var(--hover-bg-color);\n",
       "    box-shadow: 0 1px 2px rgba(60, 64, 67, 0.3), 0 1px 3px 1px rgba(60, 64, 67, 0.15);\n",
       "    fill: var(--button-hover-fill-color);\n",
       "  }\n",
       "\n",
       "  .colab-df-quickchart-complete:disabled,\n",
       "  .colab-df-quickchart-complete:disabled:hover {\n",
       "    background-color: var(--disabled-bg-color);\n",
       "    fill: var(--disabled-fill-color);\n",
       "    box-shadow: none;\n",
       "  }\n",
       "\n",
       "  .colab-df-spinner {\n",
       "    border: 2px solid var(--fill-color);\n",
       "    border-color: transparent;\n",
       "    border-bottom-color: var(--fill-color);\n",
       "    animation:\n",
       "      spin 1s steps(1) infinite;\n",
       "  }\n",
       "\n",
       "  @keyframes spin {\n",
       "    0% {\n",
       "      border-color: transparent;\n",
       "      border-bottom-color: var(--fill-color);\n",
       "      border-left-color: var(--fill-color);\n",
       "    }\n",
       "    20% {\n",
       "      border-color: transparent;\n",
       "      border-left-color: var(--fill-color);\n",
       "      border-top-color: var(--fill-color);\n",
       "    }\n",
       "    30% {\n",
       "      border-color: transparent;\n",
       "      border-left-color: var(--fill-color);\n",
       "      border-top-color: var(--fill-color);\n",
       "      border-right-color: var(--fill-color);\n",
       "    }\n",
       "    40% {\n",
       "      border-color: transparent;\n",
       "      border-right-color: var(--fill-color);\n",
       "      border-top-color: var(--fill-color);\n",
       "    }\n",
       "    60% {\n",
       "      border-color: transparent;\n",
       "      border-right-color: var(--fill-color);\n",
       "    }\n",
       "    80% {\n",
       "      border-color: transparent;\n",
       "      border-right-color: var(--fill-color);\n",
       "      border-bottom-color: var(--fill-color);\n",
       "    }\n",
       "    90% {\n",
       "      border-color: transparent;\n",
       "      border-bottom-color: var(--fill-color);\n",
       "    }\n",
       "  }\n",
       "</style>\n",
       "\n",
       "  <script>\n",
       "    async function quickchart(key) {\n",
       "      const quickchartButtonEl =\n",
       "        document.querySelector('#' + key + ' button');\n",
       "      quickchartButtonEl.disabled = true;  // To prevent multiple clicks.\n",
       "      quickchartButtonEl.classList.add('colab-df-spinner');\n",
       "      try {\n",
       "        const charts = await google.colab.kernel.invokeFunction(\n",
       "            'suggestCharts', [key], {});\n",
       "      } catch (error) {\n",
       "        console.error('Error during call to suggestCharts:', error);\n",
       "      }\n",
       "      quickchartButtonEl.classList.remove('colab-df-spinner');\n",
       "      quickchartButtonEl.classList.add('colab-df-quickchart-complete');\n",
       "    }\n",
       "    (() => {\n",
       "      let quickchartButtonEl =\n",
       "        document.querySelector('#df-f6dea758-f750-4037-b360-b15e9c2acb0c button');\n",
       "      quickchartButtonEl.style.display =\n",
       "        google.colab.kernel.accessAllowed ? 'block' : 'none';\n",
       "    })();\n",
       "  </script>\n",
       "</div>\n",
       "\n",
       "  <div id=\"id_ac56c7d0-ef8d-4a6c-b55f-53b18f49e88c\">\n",
       "    <style>\n",
       "      .colab-df-generate {\n",
       "        background-color: #E8F0FE;\n",
       "        border: none;\n",
       "        border-radius: 50%;\n",
       "        cursor: pointer;\n",
       "        display: none;\n",
       "        fill: #1967D2;\n",
       "        height: 32px;\n",
       "        padding: 0 0 0 0;\n",
       "        width: 32px;\n",
       "      }\n",
       "\n",
       "      .colab-df-generate:hover {\n",
       "        background-color: #E2EBFA;\n",
       "        box-shadow: 0px 1px 2px rgba(60, 64, 67, 0.3), 0px 1px 3px 1px rgba(60, 64, 67, 0.15);\n",
       "        fill: #174EA6;\n",
       "      }\n",
       "\n",
       "      [theme=dark] .colab-df-generate {\n",
       "        background-color: #3B4455;\n",
       "        fill: #D2E3FC;\n",
       "      }\n",
       "\n",
       "      [theme=dark] .colab-df-generate:hover {\n",
       "        background-color: #434B5C;\n",
       "        box-shadow: 0px 1px 3px 1px rgba(0, 0, 0, 0.15);\n",
       "        filter: drop-shadow(0px 1px 2px rgba(0, 0, 0, 0.3));\n",
       "        fill: #FFFFFF;\n",
       "      }\n",
       "    </style>\n",
       "    <button class=\"colab-df-generate\" onclick=\"generateWithVariable('df')\"\n",
       "            title=\"Generate code using this dataframe.\"\n",
       "            style=\"display:none;\">\n",
       "\n",
       "  <svg xmlns=\"http://www.w3.org/2000/svg\" height=\"24px\"viewBox=\"0 0 24 24\"\n",
       "       width=\"24px\">\n",
       "    <path d=\"M7,19H8.4L18.45,9,17,7.55,7,17.6ZM5,21V16.75L18.45,3.32a2,2,0,0,1,2.83,0l1.4,1.43a1.91,1.91,0,0,1,.58,1.4,1.91,1.91,0,0,1-.58,1.4L9.25,21ZM18.45,9,17,7.55Zm-12,3A5.31,5.31,0,0,0,4.9,8.1,5.31,5.31,0,0,0,1,6.5,5.31,5.31,0,0,0,4.9,4.9,5.31,5.31,0,0,0,6.5,1,5.31,5.31,0,0,0,8.1,4.9,5.31,5.31,0,0,0,12,6.5,5.46,5.46,0,0,0,6.5,12Z\"/>\n",
       "  </svg>\n",
       "    </button>\n",
       "    <script>\n",
       "      (() => {\n",
       "      const buttonEl =\n",
       "        document.querySelector('#id_ac56c7d0-ef8d-4a6c-b55f-53b18f49e88c button.colab-df-generate');\n",
       "      buttonEl.style.display =\n",
       "        google.colab.kernel.accessAllowed ? 'block' : 'none';\n",
       "\n",
       "      buttonEl.onclick = () => {\n",
       "        google.colab.notebook.generateWithVariable('df');\n",
       "      }\n",
       "      })();\n",
       "    </script>\n",
       "  </div>\n",
       "\n",
       "    </div>\n",
       "  </div>\n"
      ],
      "application/vnd.google.colaboratory.intrinsic+json": {
       "type": "dataframe",
       "variable_name": "df"
      }
     },
     "metadata": {},
     "execution_count": 101
    }
   ]
  },
  {
   "cell_type": "code",
   "source": [
    "from nltk.stem.porter import PorterStemmer\n",
    "ps = PorterStemmer()"
   ],
   "metadata": {
    "id": "SiCtZYQwa5zL"
   },
   "execution_count": 60,
   "outputs": []
  },
  {
   "cell_type": "code",
   "source": [
    "from tensorflow.keras.layers import TextVectorization"
   ],
   "metadata": {
    "id": "bjuFG4g_a8uo"
   },
   "execution_count": 61,
   "outputs": []
  },
  {
   "cell_type": "code",
   "source": [
    "X= df['comment_text']"
   ],
   "metadata": {
    "id": "WusgmOV7a_fY"
   },
   "execution_count": 102,
   "outputs": []
  },
  {
   "cell_type": "code",
   "source": [
    "y = df[df.columns[2:]].values"
   ],
   "metadata": {
    "id": "lY8n_Dy3bCrK"
   },
   "execution_count": 103,
   "outputs": []
  },
  {
   "cell_type": "code",
   "source": [
    "df.columns"
   ],
   "metadata": {
    "colab": {
     "base_uri": "https://localhost:8080/"
    },
    "id": "-G-kdZP8hQ1E",
    "outputId": "0ddf3528-ba8b-4e3e-bd5d-f79aa57e1f1b"
   },
   "execution_count": 104,
   "outputs": [
    {
     "output_type": "execute_result",
     "data": {
      "text/plain": [
       "Index(['id', 'comment_text', 'toxic', 'severe_toxic', 'obscene', 'threat',\n",
       "       'insult', 'identity_hate'],\n",
       "      dtype='object')"
      ]
     },
     "metadata": {},
     "execution_count": 104
    }
   ]
  },
  {
   "cell_type": "code",
   "source": [
    "df['comment_text']"
   ],
   "metadata": {
    "colab": {
     "base_uri": "https://localhost:8080/",
     "height": 458
    },
    "id": "_F1-VJAIhYt8",
    "outputId": "253291f4-b987-4ae1-abb6-8776ac785fcb"
   },
   "execution_count": 105,
   "outputs": [
    {
     "output_type": "execute_result",
     "data": {
      "text/plain": [
       "0         Explanation\\r\\nWhy the edits made under my use...\n",
       "1         D'aww! He matches this background colour I'm s...\n",
       "2         Hey man, I'm really not trying to edit war. It...\n",
       "3         \"\\r\\nMore\\r\\nI can't make any real suggestions...\n",
       "4         You, sir, are my hero. Any chance you remember...\n",
       "                                ...                        \n",
       "159566    \":::::And for the second time of asking, when ...\n",
       "159567    You should be ashamed of yourself \\r\\n\\r\\nThat...\n",
       "159568    Spitzer \\r\\n\\r\\nUmm, theres no actual article ...\n",
       "159569    And it looks like it was actually you who put ...\n",
       "159570    \"\\r\\nAnd ... I really don't think you understa...\n",
       "Name: comment_text, Length: 159571, dtype: object"
      ],
      "text/html": [
       "<div>\n",
       "<style scoped>\n",
       "    .dataframe tbody tr th:only-of-type {\n",
       "        vertical-align: middle;\n",
       "    }\n",
       "\n",
       "    .dataframe tbody tr th {\n",
       "        vertical-align: top;\n",
       "    }\n",
       "\n",
       "    .dataframe thead th {\n",
       "        text-align: right;\n",
       "    }\n",
       "</style>\n",
       "<table border=\"1\" class=\"dataframe\">\n",
       "  <thead>\n",
       "    <tr style=\"text-align: right;\">\n",
       "      <th></th>\n",
       "      <th>comment_text</th>\n",
       "    </tr>\n",
       "  </thead>\n",
       "  <tbody>\n",
       "    <tr>\n",
       "      <th>0</th>\n",
       "      <td>Explanation\\r\\nWhy the edits made under my use...</td>\n",
       "    </tr>\n",
       "    <tr>\n",
       "      <th>1</th>\n",
       "      <td>D'aww! He matches this background colour I'm s...</td>\n",
       "    </tr>\n",
       "    <tr>\n",
       "      <th>2</th>\n",
       "      <td>Hey man, I'm really not trying to edit war. It...</td>\n",
       "    </tr>\n",
       "    <tr>\n",
       "      <th>3</th>\n",
       "      <td>\"\\r\\nMore\\r\\nI can't make any real suggestions...</td>\n",
       "    </tr>\n",
       "    <tr>\n",
       "      <th>4</th>\n",
       "      <td>You, sir, are my hero. Any chance you remember...</td>\n",
       "    </tr>\n",
       "    <tr>\n",
       "      <th>...</th>\n",
       "      <td>...</td>\n",
       "    </tr>\n",
       "    <tr>\n",
       "      <th>159566</th>\n",
       "      <td>\":::::And for the second time of asking, when ...</td>\n",
       "    </tr>\n",
       "    <tr>\n",
       "      <th>159567</th>\n",
       "      <td>You should be ashamed of yourself \\r\\n\\r\\nThat...</td>\n",
       "    </tr>\n",
       "    <tr>\n",
       "      <th>159568</th>\n",
       "      <td>Spitzer \\r\\n\\r\\nUmm, theres no actual article ...</td>\n",
       "    </tr>\n",
       "    <tr>\n",
       "      <th>159569</th>\n",
       "      <td>And it looks like it was actually you who put ...</td>\n",
       "    </tr>\n",
       "    <tr>\n",
       "      <th>159570</th>\n",
       "      <td>\"\\r\\nAnd ... I really don't think you understa...</td>\n",
       "    </tr>\n",
       "  </tbody>\n",
       "</table>\n",
       "<p>159571 rows × 1 columns</p>\n",
       "</div><br><label><b>dtype:</b> object</label>"
      ]
     },
     "metadata": {},
     "execution_count": 105
    }
   ]
  },
  {
   "cell_type": "code",
   "source": [
    "df[df.columns[2:]].values"
   ],
   "metadata": {
    "colab": {
     "base_uri": "https://localhost:8080/"
    },
    "id": "MbAogvd3hgUT",
    "outputId": "06c95d08-7119-42d9-9fc3-96fb81f2af64"
   },
   "execution_count": 108,
   "outputs": [
    {
     "output_type": "execute_result",
     "data": {
      "text/plain": [
       "array([[0, 0, 0, 0, 0, 0],\n",
       "       [0, 0, 0, 0, 0, 0],\n",
       "       [0, 0, 0, 0, 0, 0],\n",
       "       ...,\n",
       "       [0, 0, 0, 0, 0, 0],\n",
       "       [0, 0, 0, 0, 0, 0],\n",
       "       [0, 0, 0, 0, 0, 0]])"
      ]
     },
     "metadata": {},
     "execution_count": 108
    }
   ]
  },
  {
   "cell_type": "code",
   "source": [
    "MAX_FEATURES=200000 # number of words in the vocab"
   ],
   "metadata": {
    "id": "JfqdaEhEbFCq"
   },
   "execution_count": 64,
   "outputs": []
  },
  {
   "cell_type": "code",
   "source": [
    "vectorizer= TextVectorization(max_tokens=MAX_FEATURES,\n",
    "                             output_sequence_length=1800,\n",
    "                             output_mode='int')"
   ],
   "metadata": {
    "id": "oVu431dObH_1"
   },
   "execution_count": 65,
   "outputs": []
  },
  {
   "cell_type": "code",
   "source": [
    "vectorizer.adapt(X.values) #passing X pandas series as numpy array"
   ],
   "metadata": {
    "id": "A_KBGMVObJRi"
   },
   "execution_count": 66,
   "outputs": []
  },
  {
   "cell_type": "code",
   "source": [
    "vectorizer('Hello world, life is great')[:5]"
   ],
   "metadata": {
    "colab": {
     "base_uri": "https://localhost:8080/"
    },
    "id": "4Hwfm5h3iQ53",
    "outputId": "8a378614-13e2-4d95-cc0c-e7f1afd3f3f2"
   },
   "execution_count": 112,
   "outputs": [
    {
     "output_type": "execute_result",
     "data": {
      "text/plain": [
       "<tf.Tensor: shape=(5,), dtype=int64, numpy=array([288, 263, 306,   9, 275])>"
      ]
     },
     "metadata": {},
     "execution_count": 112
    }
   ]
  },
  {
   "cell_type": "code",
   "source": [
    "vectorizer.get_vocabulary()"
   ],
   "metadata": {
    "colab": {
     "base_uri": "https://localhost:8080/"
    },
    "id": "BOTy5uMaiBDq",
    "outputId": "b58c38b6-479c-48b5-e144-601fc3918ad0"
   },
   "execution_count": 110,
   "outputs": [
    {
     "output_type": "execute_result",
     "data": {
      "text/plain": [
       "['',\n",
       " '[UNK]',\n",
       " 'the',\n",
       " 'to',\n",
       " 'of',\n",
       " 'and',\n",
       " 'a',\n",
       " 'you',\n",
       " 'i',\n",
       " 'is',\n",
       " 'that',\n",
       " 'in',\n",
       " 'it',\n",
       " 'for',\n",
       " 'this',\n",
       " 'not',\n",
       " 'on',\n",
       " 'be',\n",
       " 'as',\n",
       " 'have',\n",
       " 'are',\n",
       " 'your',\n",
       " 'with',\n",
       " 'if',\n",
       " 'article',\n",
       " 'was',\n",
       " 'or',\n",
       " 'but',\n",
       " 'page',\n",
       " 'my',\n",
       " 'an',\n",
       " 'from',\n",
       " 'by',\n",
       " 'do',\n",
       " 'at',\n",
       " 'about',\n",
       " 'me',\n",
       " 'so',\n",
       " 'wikipedia',\n",
       " 'can',\n",
       " 'what',\n",
       " 'there',\n",
       " 'all',\n",
       " 'has',\n",
       " 'will',\n",
       " 'talk',\n",
       " 'please',\n",
       " 'would',\n",
       " 'its',\n",
       " 'no',\n",
       " 'one',\n",
       " 'just',\n",
       " 'like',\n",
       " 'they',\n",
       " 'he',\n",
       " 'dont',\n",
       " 'which',\n",
       " 'any',\n",
       " 'been',\n",
       " 'should',\n",
       " 'more',\n",
       " 'we',\n",
       " 'some',\n",
       " 'other',\n",
       " 'who',\n",
       " 'see',\n",
       " 'here',\n",
       " 'also',\n",
       " 'his',\n",
       " 'think',\n",
       " 'im',\n",
       " 'because',\n",
       " 'know',\n",
       " 'how',\n",
       " 'am',\n",
       " 'people',\n",
       " 'why',\n",
       " 'edit',\n",
       " 'articles',\n",
       " 'only',\n",
       " 'out',\n",
       " 'up',\n",
       " 'when',\n",
       " 'were',\n",
       " 'use',\n",
       " 'then',\n",
       " 'may',\n",
       " 'time',\n",
       " 'did',\n",
       " 'them',\n",
       " 'now',\n",
       " 'being',\n",
       " 'their',\n",
       " 'than',\n",
       " 'thanks',\n",
       " 'even',\n",
       " 'get',\n",
       " 'make',\n",
       " 'good',\n",
       " 'had',\n",
       " 'very',\n",
       " 'information',\n",
       " 'does',\n",
       " 'could',\n",
       " 'well',\n",
       " 'want',\n",
       " 'such',\n",
       " 'sources',\n",
       " 'way',\n",
       " 'name',\n",
       " 'these',\n",
       " 'deletion',\n",
       " 'pages',\n",
       " 'first',\n",
       " 'help',\n",
       " 'new',\n",
       " 'editing',\n",
       " 'source',\n",
       " 'go',\n",
       " 'need',\n",
       " 'say',\n",
       " 'section',\n",
       " 'edits',\n",
       " 'again',\n",
       " 'thank',\n",
       " 'where',\n",
       " 'user',\n",
       " 'made',\n",
       " 'many',\n",
       " 'much',\n",
       " 'really',\n",
       " 'used',\n",
       " 'most',\n",
       " 'discussion',\n",
       " 'find',\n",
       " 'same',\n",
       " 'ive',\n",
       " 'deleted',\n",
       " 'into',\n",
       " 'fuck',\n",
       " 'those',\n",
       " 'work',\n",
       " 'since',\n",
       " 'before',\n",
       " 'after',\n",
       " 'point',\n",
       " 'add',\n",
       " 'look',\n",
       " 'right',\n",
       " 'read',\n",
       " 'image',\n",
       " 'take',\n",
       " 'still',\n",
       " 'over',\n",
       " 'someone',\n",
       " 'him',\n",
       " 'two',\n",
       " 'back',\n",
       " 'too',\n",
       " 'fact',\n",
       " 'link',\n",
       " 'said',\n",
       " 'own',\n",
       " 'something',\n",
       " 'going',\n",
       " 'youre',\n",
       " 'blocked',\n",
       " 'list',\n",
       " 'stop',\n",
       " 'without',\n",
       " 'content',\n",
       " 'hi',\n",
       " 'under',\n",
       " 'editors',\n",
       " 'our',\n",
       " 'block',\n",
       " 'thats',\n",
       " 'us',\n",
       " 'added',\n",
       " 'utc',\n",
       " 'history',\n",
       " 'another',\n",
       " 'doesnt',\n",
       " 'removed',\n",
       " 'might',\n",
       " 'note',\n",
       " 'however',\n",
       " 'sure',\n",
       " 'place',\n",
       " 'never',\n",
       " 'done',\n",
       " 'welcome',\n",
       " 'her',\n",
       " 'case',\n",
       " 'put',\n",
       " 'personal',\n",
       " 'seems',\n",
       " 'reason',\n",
       " 'better',\n",
       " 'using',\n",
       " 'yourself',\n",
       " 'cant',\n",
       " 'actually',\n",
       " 'ask',\n",
       " 'comment',\n",
       " 'while',\n",
       " 'vandalism',\n",
       " 'feel',\n",
       " 'question',\n",
       " 'anything',\n",
       " 'believe',\n",
       " 'person',\n",
       " 'links',\n",
       " 'things',\n",
       " 'both',\n",
       " 'didnt',\n",
       " 'comments',\n",
       " 'best',\n",
       " 'ill',\n",
       " 'part',\n",
       " 'she',\n",
       " 'hope',\n",
       " 'policy',\n",
       " 'against',\n",
       " 'off',\n",
       " 'keep',\n",
       " 'already',\n",
       " 'free',\n",
       " 'wiki',\n",
       " 'thing',\n",
       " 'nothing',\n",
       " 'change',\n",
       " 'wrong',\n",
       " 'though',\n",
       " 'problem',\n",
       " 'remove',\n",
       " 'little',\n",
       " 'subject',\n",
       " '•',\n",
       " 'others',\n",
       " 'trying',\n",
       " 'tag',\n",
       " 'copyright',\n",
       " 'must',\n",
       " 'understand',\n",
       " 'above',\n",
       " 'few',\n",
       " 'anyone',\n",
       " 'speedy',\n",
       " 'last',\n",
       " 'issue',\n",
       " 'give',\n",
       " 'questions',\n",
       " 'agree',\n",
       " 'rather',\n",
       " 'years',\n",
       " 'let',\n",
       " '2',\n",
       " 'different',\n",
       " 'editor',\n",
       " 'long',\n",
       " 'reliable',\n",
       " 'making',\n",
       " 'world',\n",
       " 'come',\n",
       " 'sorry',\n",
       " 'isnt',\n",
       " 'reference',\n",
       " 'mean',\n",
       " 'continue',\n",
       " 'try',\n",
       " 'references',\n",
       " 'found',\n",
       " 'doing',\n",
       " 'text',\n",
       " 'great',\n",
       " 'leave',\n",
       " 'says',\n",
       " 'got',\n",
       " 'probably',\n",
       " 'english',\n",
       " 'original',\n",
       " 'every',\n",
       " '1',\n",
       " 'simply',\n",
       " 'word',\n",
       " 'users',\n",
       " 'fair',\n",
       " 'hello',\n",
       " 'either',\n",
       " 'check',\n",
       " 'least',\n",
       " 'adding',\n",
       " 'ip',\n",
       " 'show',\n",
       " 'site',\n",
       " 'state',\n",
       " 'else',\n",
       " 'delete',\n",
       " 'consensus',\n",
       " 'enough',\n",
       " 'request',\n",
       " 'far',\n",
       " 'opinion',\n",
       " 'created',\n",
       " 'around',\n",
       " 'life',\n",
       " 'day',\n",
       " 'between',\n",
       " 'through',\n",
       " 'example',\n",
       " 'view',\n",
       " 'yes',\n",
       " 'reverted',\n",
       " 'yet',\n",
       " 'etc',\n",
       " 'id',\n",
       " 'matter',\n",
       " 'shit',\n",
       " 'u',\n",
       " 'war',\n",
       " 'notable',\n",
       " 'contributions',\n",
       " 'given',\n",
       " 'thought',\n",
       " 'material',\n",
       " 'book',\n",
       " 'admin',\n",
       " 'write',\n",
       " 'post',\n",
       " 'down',\n",
       " 'account',\n",
       " 'clearly',\n",
       " 'having',\n",
       " 'encyclopedia',\n",
       " 'lot',\n",
       " 'support',\n",
       " 'real',\n",
       " 'bad',\n",
       " 'message',\n",
       " 'needs',\n",
       " 'images',\n",
       " 'tell',\n",
       " 'seem',\n",
       " 'called',\n",
       " 'maybe',\n",
       " 'evidence',\n",
       " 'instead',\n",
       " 'ever',\n",
       " '3',\n",
       " 'correct',\n",
       " 'saying',\n",
       " 'clear',\n",
       " 'always',\n",
       " 'number',\n",
       " 'important',\n",
       " 'further',\n",
       " 'quite',\n",
       " 'perhaps',\n",
       " 'old',\n",
       " '—',\n",
       " 'true',\n",
       " 'until',\n",
       " 'hate',\n",
       " 'states',\n",
       " 'whether',\n",
       " 'consider',\n",
       " 'written',\n",
       " 'claim',\n",
       " 'language',\n",
       " 'media',\n",
       " 'bit',\n",
       " 'once',\n",
       " 'guidelines',\n",
       " 'term',\n",
       " 'criteria',\n",
       " 'research',\n",
       " 'nigger',\n",
       " 'version',\n",
       " 'times',\n",
       " 'website',\n",
       " 'getting',\n",
       " 'fucking',\n",
       " 'theres',\n",
       " 'review',\n",
       " 'mention',\n",
       " 'pov',\n",
       " 'oh',\n",
       " 'makes',\n",
       " 'several',\n",
       " 'revert',\n",
       " 'considered',\n",
       " 'changes',\n",
       " 'cannot',\n",
       " 'words',\n",
       " 'idea',\n",
       " 'title',\n",
       " 'suck',\n",
       " 'address',\n",
       " 'notice',\n",
       " 'based',\n",
       " 'top',\n",
       " 'following',\n",
       " 'current',\n",
       " 'each',\n",
       " 'listed',\n",
       " 'means',\n",
       " 'possible',\n",
       " 'group',\n",
       " 'facts',\n",
       " 'regarding',\n",
       " 'care',\n",
       " 'rules',\n",
       " 'second',\n",
       " 'main',\n",
       " 'template',\n",
       " 'mentioned',\n",
       " 'general',\n",
       " 'year',\n",
       " 'attack',\n",
       " 'kind',\n",
       " 'whole',\n",
       " 'course',\n",
       " 'statement',\n",
       " 'left',\n",
       " 'hey',\n",
       " 'date',\n",
       " 'include',\n",
       " 'seen',\n",
       " 'three',\n",
       " 'issues',\n",
       " 'start',\n",
       " 'ass',\n",
       " 'ok',\n",
       " 'end',\n",
       " 'wikipedias',\n",
       " 'call',\n",
       " 'less',\n",
       " 'topic',\n",
       " 'gay',\n",
       " 'suggest',\n",
       " 'man',\n",
       " 'including',\n",
       " 'happy',\n",
       " 'sense',\n",
       " 'provide',\n",
       " 'create',\n",
       " 'big',\n",
       " 'days',\n",
       " 'myself',\n",
       " 'american',\n",
       " 'redirect',\n",
       " 'known',\n",
       " 'sentence',\n",
       " 'move',\n",
       " 'appropriate',\n",
       " 'changed',\n",
       " 'love',\n",
       " 'notability',\n",
       " 'explain',\n",
       " 'started',\n",
       " 'included',\n",
       " 'removing',\n",
       " 'project',\n",
       " 'anyway',\n",
       " 'info',\n",
       " 'mind',\n",
       " 'school',\n",
       " '2005',\n",
       " 'next',\n",
       " 'looking',\n",
       " 'although',\n",
       " 'picture',\n",
       " 'relevant',\n",
       " 'four',\n",
       " 'die',\n",
       " 'sign',\n",
       " 'answer',\n",
       " 'style',\n",
       " 'away',\n",
       " 'per',\n",
       " 'order',\n",
       " 'warning',\n",
       " 'wont',\n",
       " 'recent',\n",
       " 'youve',\n",
       " 'interest',\n",
       " 'community',\n",
       " 'summary',\n",
       " 'later',\n",
       " 'lol',\n",
       " 'claims',\n",
       " 'currently',\n",
       " 'discuss',\n",
       " 'interested',\n",
       " 'policies',\n",
       " 'attacks',\n",
       " 'especially',\n",
       " 'wish',\n",
       " 'wrote',\n",
       " 'able',\n",
       " 'specific',\n",
       " 'public',\n",
       " 'taken',\n",
       " 'writing',\n",
       " 'neutral',\n",
       " 'full',\n",
       " 'names',\n",
       " 'within',\n",
       " '4',\n",
       " 'position',\n",
       " 'related',\n",
       " 'below',\n",
       " 'line',\n",
       " 'wanted',\n",
       " 'during',\n",
       " 'appears',\n",
       " 'stuff',\n",
       " 'certainly',\n",
       " 'official',\n",
       " 'nice',\n",
       " 'itself',\n",
       " 'faith',\n",
       " 'everyone',\n",
       " 'wasnt',\n",
       " 'live',\n",
       " 'report',\n",
       " 'completely',\n",
       " 'according',\n",
       " 'unless',\n",
       " 'common',\n",
       " 'pretty',\n",
       " 'country',\n",
       " 'everything',\n",
       " 'looks',\n",
       " 'due',\n",
       " 'single',\n",
       " 'hes',\n",
       " 'process',\n",
       " 'contribs',\n",
       " 'news',\n",
       " 'involved',\n",
       " 'god',\n",
       " 'fat',\n",
       " 'therefore',\n",
       " 'obviously',\n",
       " 'remember',\n",
       " 'lead',\n",
       " 'hard',\n",
       " 'admins',\n",
       " 'came',\n",
       " 'edited',\n",
       " 'web',\n",
       " 'stay',\n",
       " 'learn',\n",
       " 'response',\n",
       " 'future',\n",
       " 'past',\n",
       " 'asked',\n",
       " 'truth',\n",
       " 'reading',\n",
       " 'power',\n",
       " '2006',\n",
       " 'stupid',\n",
       " 'entry',\n",
       " 'quote',\n",
       " 'posted',\n",
       " 'nor',\n",
       " 'talking',\n",
       " 'placed',\n",
       " '5',\n",
       " 'ago',\n",
       " 'similar',\n",
       " 'email',\n",
       " 'game',\n",
       " 'published',\n",
       " 'exactly',\n",
       " 'today',\n",
       " 'reasons',\n",
       " 'paragraph',\n",
       " 'faggot',\n",
       " 'city',\n",
       " 'argument',\n",
       " 'whatever',\n",
       " 'system',\n",
       " 'working',\n",
       " 'false',\n",
       " 'sandbox',\n",
       " 'moron',\n",
       " 'political',\n",
       " 'noticed',\n",
       " 'useful',\n",
       " 'havent',\n",
       " 'guy',\n",
       " 'high',\n",
       " 'regards',\n",
       " 'united',\n",
       " 'guess',\n",
       " 'appreciate',\n",
       " 'particular',\n",
       " 'deleting',\n",
       " 'form',\n",
       " 'books',\n",
       " 'government',\n",
       " 'dispute',\n",
       " 'five',\n",
       " 'british',\n",
       " 'reverting',\n",
       " 'major',\n",
       " 'problems',\n",
       " 'national',\n",
       " 'party',\n",
       " 'provided',\n",
       " 'often',\n",
       " 'ones',\n",
       " 'become',\n",
       " 'lets',\n",
       " 'tried',\n",
       " 'side',\n",
       " 'administrator',\n",
       " 'along',\n",
       " 'reply',\n",
       " 'almost',\n",
       " 'needed',\n",
       " 'stated',\n",
       " 'rule',\n",
       " 'took',\n",
       " 'search',\n",
       " 'knowledge',\n",
       " 'banned',\n",
       " 'cheers',\n",
       " 'taking',\n",
       " 'vandalize',\n",
       " '–',\n",
       " 'certain',\n",
       " '2007',\n",
       " 'username',\n",
       " 'fine',\n",
       " 'status',\n",
       " 'law',\n",
       " 'points',\n",
       " 'company',\n",
       " 'otherwise',\n",
       " 'uploaded',\n",
       " 'terms',\n",
       " 'explanation',\n",
       " 'generally',\n",
       " 'sort',\n",
       " 'entire',\n",
       " 'shows',\n",
       " 'description',\n",
       " 'whats',\n",
       " 'recently',\n",
       " 'follow',\n",
       " 'guys',\n",
       " '2008',\n",
       " 'likely',\n",
       " 'film',\n",
       " 'present',\n",
       " 'aware',\n",
       " 'saw',\n",
       " 'definition',\n",
       " 'cited',\n",
       " 'alone',\n",
       " 'google',\n",
       " 'music',\n",
       " 'soon',\n",
       " 'indeed',\n",
       " 'decide',\n",
       " 'ban',\n",
       " 'wp',\n",
       " 'appear',\n",
       " 'views',\n",
       " 'week',\n",
       " 'open',\n",
       " 'citation',\n",
       " 'contributing',\n",
       " 'actual',\n",
       " 'set',\n",
       " 'interesting',\n",
       " 'piece',\n",
       " 'c',\n",
       " 'short',\n",
       " 'white',\n",
       " 'told',\n",
       " 'theory',\n",
       " 'area',\n",
       " 'improve',\n",
       " 'external',\n",
       " 'small',\n",
       " 'story',\n",
       " 'contact',\n",
       " 'simple',\n",
       " '2004',\n",
       " 'various',\n",
       " 'allowed',\n",
       " 'moved',\n",
       " 'test',\n",
       " 'internet',\n",
       " 'obvious',\n",
       " 'family',\n",
       " 'band',\n",
       " 'attention',\n",
       " 'arent',\n",
       " 'proposed',\n",
       " 'jew',\n",
       " 'themselves',\n",
       " 'members',\n",
       " 'wouldnt',\n",
       " 'result',\n",
       " 'disagree',\n",
       " 'thus',\n",
       " 'cunt',\n",
       " 'went',\n",
       " 'type',\n",
       " 'sites',\n",
       " 'ie',\n",
       " 'context',\n",
       " 'mr',\n",
       " 'previous',\n",
       " 'nonsense',\n",
       " 'actions',\n",
       " 'tags',\n",
       " 'cite',\n",
       " 'works',\n",
       " '10',\n",
       " 'citations',\n",
       " 'jews',\n",
       " 'university',\n",
       " 're',\n",
       " 'enjoy',\n",
       " 'conflict',\n",
       " 'hours',\n",
       " 'shouldnt',\n",
       " 'proper',\n",
       " 'bias',\n",
       " 'category',\n",
       " 'job',\n",
       " 'longer',\n",
       " 'file',\n",
       " 'together',\n",
       " 'hell',\n",
       " 'sourced',\n",
       " 'sucks',\n",
       " 'addition',\n",
       " 'happened',\n",
       " 'avoid',\n",
       " 'automatically',\n",
       " 'author',\n",
       " 'valid',\n",
       " 'black',\n",
       " 'creating',\n",
       " 'deal',\n",
       " 'worked',\n",
       " 'npov',\n",
       " 'goes',\n",
       " 'himself',\n",
       " 'seriously',\n",
       " 'john',\n",
       " 'death',\n",
       " 'proof',\n",
       " 'respect',\n",
       " 'bitch',\n",
       " 'science',\n",
       " 'human',\n",
       " 'biased',\n",
       " 'comes',\n",
       " 'helpful',\n",
       " 'large',\n",
       " 'accepted',\n",
       " 'available',\n",
       " 'exist',\n",
       " 'series',\n",
       " 'tildes',\n",
       " 'opinions',\n",
       " 'hand',\n",
       " '6',\n",
       " 'indicate',\n",
       " 'sections',\n",
       " 'rights',\n",
       " 'necessary',\n",
       " 'act',\n",
       " 'meaning',\n",
       " 'attempt',\n",
       " 'accept',\n",
       " 'personally',\n",
       " 'statements',\n",
       " 'violation',\n",
       " 'months',\n",
       " 'criticism',\n",
       " 'accurate',\n",
       " 'action',\n",
       " 'usually',\n",
       " 'unblock',\n",
       " 'german',\n",
       " 'pig',\n",
       " 'cause',\n",
       " 'yeah',\n",
       " 'living',\n",
       " 'copy',\n",
       " 'debate',\n",
       " 'upon',\n",
       " 'assume',\n",
       " 'july',\n",
       " 'calling',\n",
       " 'standard',\n",
       " 'video',\n",
       " 'play',\n",
       " 'rest',\n",
       " 'tagged',\n",
       " 'doubt',\n",
       " 'sex',\n",
       " 'multiple',\n",
       " 'theyre',\n",
       " 'historical',\n",
       " 'serious',\n",
       " 'details',\n",
       " 'dick',\n",
       " 'youll',\n",
       " 'separate',\n",
       " 'manual',\n",
       " 'record',\n",
       " 'blocking',\n",
       " 'afd',\n",
       " 'explaining',\n",
       " 'situation',\n",
       " 'refer',\n",
       " 'wikiproject',\n",
       " 'heard',\n",
       " 'online',\n",
       " 'level',\n",
       " 'fix',\n",
       " 'asking',\n",
       " '7',\n",
       " 'complete',\n",
       " 'speak',\n",
       " 'lack',\n",
       " 'messages',\n",
       " 'none',\n",
       " 'prove',\n",
       " 'third',\n",
       " 'subjects',\n",
       " 'church',\n",
       " 'apparently',\n",
       " '2009',\n",
       " 'south',\n",
       " 'rationale',\n",
       " 'bullshit',\n",
       " 'data',\n",
       " 'directly',\n",
       " 'august',\n",
       " 'period',\n",
       " 'legal',\n",
       " 'behavior',\n",
       " 'difference',\n",
       " 'contribute',\n",
       " 'greek',\n",
       " 'huge',\n",
       " 'gets',\n",
       " 'wikipedian',\n",
       " 'couple',\n",
       " 'supposed',\n",
       " 'among',\n",
       " 'early',\n",
       " 'except',\n",
       " 'march',\n",
       " 'close',\n",
       " 'quality',\n",
       " 'space',\n",
       " 'meant',\n",
       " 'countries',\n",
       " 'run',\n",
       " 'team',\n",
       " 'uses',\n",
       " 'military',\n",
       " 'b',\n",
       " 'changing',\n",
       " 'existing',\n",
       " 'specifically',\n",
       " 'significant',\n",
       " '2010',\n",
       " 'pillars',\n",
       " 'fish',\n",
       " 'incorrect',\n",
       " 'culture',\n",
       " 'described',\n",
       " 'produce',\n",
       " 'jewish',\n",
       " '24',\n",
       " 'uk',\n",
       " 'disruptive',\n",
       " 'd',\n",
       " 'field',\n",
       " 'error',\n",
       " 'india',\n",
       " 'head',\n",
       " 'primary',\n",
       " 'friend',\n",
       " 'earlier',\n",
       " 'sometimes',\n",
       " 'outside',\n",
       " '20',\n",
       " 'purpose',\n",
       " 'administrators',\n",
       " 'modern',\n",
       " 'photo',\n",
       " 'table',\n",
       " 'particularly',\n",
       " 't',\n",
       " 'release',\n",
       " 'gave',\n",
       " 'box',\n",
       " 'cases',\n",
       " 'inclusion',\n",
       " 'born',\n",
       " 'pictures',\n",
       " 'readers',\n",
       " 'june',\n",
       " 'character',\n",
       " 'vote',\n",
       " 'okay',\n",
       " 'groups',\n",
       " 'anonymous',\n",
       " 'abuse',\n",
       " 'arguments',\n",
       " 'business',\n",
       " 'shall',\n",
       " 'sock',\n",
       " 'tutorial',\n",
       " 'january',\n",
       " 'friends',\n",
       " 'numbers',\n",
       " 'control',\n",
       " 'thinking',\n",
       " 'member',\n",
       " 'linked',\n",
       " 'happen',\n",
       " 'reported',\n",
       " 'contest',\n",
       " 'coming',\n",
       " 'takes',\n",
       " 'concerns',\n",
       " 'allow',\n",
       " 'wait',\n",
       " 'majority',\n",
       " 'giving',\n",
       " '8',\n",
       " 'bring',\n",
       " 'eg',\n",
       " 'worth',\n",
       " 'kill',\n",
       " 'totally',\n",
       " 'red',\n",
       " 'force',\n",
       " 'decided',\n",
       " 'discussed',\n",
       " 'house',\n",
       " 'finally',\n",
       " 'absolutely',\n",
       " 'putting',\n",
       " 'scientific',\n",
       " 'respond',\n",
       " 'mistake',\n",
       " 'decision',\n",
       " 'de',\n",
       " 'lost',\n",
       " 'entirely',\n",
       " '100',\n",
       " 'towards',\n",
       " 'merely',\n",
       " 'home',\n",
       " 'neither',\n",
       " 'dear',\n",
       " 'independent',\n",
       " 'international',\n",
       " 'song',\n",
       " 'balls',\n",
       " 'wants',\n",
       " 'possibly',\n",
       " 'unsigned',\n",
       " 'million',\n",
       " 'irrelevant',\n",
       " 'standards',\n",
       " 'april',\n",
       " '12',\n",
       " 'press',\n",
       " 'figure',\n",
       " 'organization',\n",
       " 'looked',\n",
       " 'inappropriate',\n",
       " 'chance',\n",
       " 'posting',\n",
       " 'population',\n",
       " 'advice',\n",
       " 'posts',\n",
       " 'north',\n",
       " 'events',\n",
       " 'unfortunately',\n",
       " 'named',\n",
       " 'album',\n",
       " ...]"
      ]
     },
     "metadata": {},
     "execution_count": 110
    }
   ]
  },
  {
   "cell_type": "code",
   "source": [
    "X.values"
   ],
   "metadata": {
    "colab": {
     "base_uri": "https://localhost:8080/"
    },
    "id": "Sar04sPmbKdh",
    "outputId": "d970c8b2-5f5d-4a46-fcb9-f6baaace44f9"
   },
   "execution_count": 67,
   "outputs": [
    {
     "output_type": "execute_result",
     "data": {
      "text/plain": [
       "array([\"Explanation\\r\\nWhy the edits made under my username Hardcore Metallica Fan were reverted? They weren't vandalisms, just closure on some GAs after I voted at New York Dolls FAC. And please don't remove the template from the talk page since I'm retired now.89.205.38.27\",\n",
       "       \"D'aww! He matches this background colour I'm seemingly stuck with. Thanks.  (talk) 21:51, January 11, 2016 (UTC)\",\n",
       "       \"Hey man, I'm really not trying to edit war. It's just that this guy is constantly removing relevant information and talking to me through edits instead of my talk page. He seems to care more about the formatting than the actual info.\",\n",
       "       ...,\n",
       "       'Spitzer \\r\\n\\r\\nUmm, theres no actual article for prostitution ring.  - Crunch Captain.',\n",
       "       'And it looks like it was actually you who put on the speedy to have the first version deleted now that I look at it.',\n",
       "       '\"\\r\\nAnd ... I really don\\'t think you understand.  I came here and my idea was bad right away.  What kind of community goes \"\"you have bad ideas\"\" go away, instead of helping rewrite them.   \"'],\n",
       "      dtype=object)"
      ]
     },
     "metadata": {},
     "execution_count": 67
    }
   ]
  },
  {
   "cell_type": "code",
   "source": [
    "vectorized_text = vectorizer(X.values)"
   ],
   "metadata": {
    "id": "o7UHb2wybMrV"
   },
   "execution_count": 68,
   "outputs": []
  },
  {
   "cell_type": "code",
   "source": [
    "vectorized_text"
   ],
   "metadata": {
    "colab": {
     "base_uri": "https://localhost:8080/"
    },
    "id": "jpY9JG_3bO7W",
    "outputId": "311bf937-39c2-47db-f1d4-c1625951ffef"
   },
   "execution_count": 113,
   "outputs": [
    {
     "output_type": "execute_result",
     "data": {
      "text/plain": [
       "<tf.Tensor: shape=(159571, 1800), dtype=int64, numpy=\n",
       "array([[  645,    76,     2, ...,     0,     0,     0],\n",
       "       [    1,    54,  2489, ...,     0,     0,     0],\n",
       "       [  425,   441,    70, ...,     0,     0,     0],\n",
       "       ...,\n",
       "       [32445,  7392,   383, ...,     0,     0,     0],\n",
       "       [    5,    12,   534, ...,     0,     0,     0],\n",
       "       [    5,     8,   130, ...,     0,     0,     0]])>"
      ]
     },
     "metadata": {},
     "execution_count": 113
    }
   ]
  },
  {
   "cell_type": "code",
   "source": [
    "len(X)"
   ],
   "metadata": {
    "colab": {
     "base_uri": "https://localhost:8080/"
    },
    "id": "gjvwsUc9bSj0",
    "outputId": "bf42fc92-d9f8-49bc-8b8e-1552b5596a2d"
   },
   "execution_count": 70,
   "outputs": [
    {
     "output_type": "execute_result",
     "data": {
      "text/plain": [
       "159571"
      ]
     },
     "metadata": {},
     "execution_count": 70
    }
   ]
  },
  {
   "cell_type": "code",
   "source": [
    "# tensorflow pipeline\n",
    "\n",
    "dataset = tf.data.Dataset.from_tensor_slices((vectorized_text,y))\n",
    "dataset = dataset.cache()\n",
    "dataset = dataset.shuffle(160000)\n",
    "dataset = dataset.batch(16)\n",
    "dataset = dataset.prefetch(8) #helps prevent bottlenecks"
   ],
   "metadata": {
    "id": "y3rcy1ehbUHd"
   },
   "execution_count": 117,
   "outputs": []
  },
  {
   "cell_type": "code",
   "source": [
    "len(dataset)"
   ],
   "metadata": {
    "colab": {
     "base_uri": "https://localhost:8080/"
    },
    "id": "eW9Ek98Ef0MJ",
    "outputId": "9788b62c-c863-4252-abd6-d36e5b27e1ee"
   },
   "execution_count": 118,
   "outputs": [
    {
     "output_type": "execute_result",
     "data": {
      "text/plain": [
       "9974"
      ]
     },
     "metadata": {},
     "execution_count": 118
    }
   ]
  },
  {
   "cell_type": "code",
   "source": [
    "batch_X, batch_y = dataset.as_numpy_iterator().next()"
   ],
   "metadata": {
    "id": "2auDu7KObYA2"
   },
   "execution_count": 119,
   "outputs": []
  },
  {
   "cell_type": "code",
   "source": [
    "batch_X.shape\n"
   ],
   "metadata": {
    "colab": {
     "base_uri": "https://localhost:8080/"
    },
    "id": "Atxrc2F_bZjk",
    "outputId": "adb59f53-b966-4448-eb59-6abe33ff7b6b"
   },
   "execution_count": 120,
   "outputs": [
    {
     "output_type": "execute_result",
     "data": {
      "text/plain": [
       "(16, 1800)"
      ]
     },
     "metadata": {},
     "execution_count": 120
    }
   ]
  },
  {
   "cell_type": "code",
   "source": [
    "int(len(dataset)*.7)"
   ],
   "metadata": {
    "colab": {
     "base_uri": "https://localhost:8080/"
    },
    "id": "puYqdmccbczY",
    "outputId": "9538b445-b740-4984-f846-99de76787bd0"
   },
   "execution_count": 121,
   "outputs": [
    {
     "output_type": "execute_result",
     "data": {
      "text/plain": [
       "6981"
      ]
     },
     "metadata": {},
     "execution_count": 121
    }
   ]
  },
  {
   "cell_type": "code",
   "source": [
    "train = dataset.take(int(len(dataset)*.7))\n",
    "val = dataset.skip(int(len(dataset)*.7)).take(int(len(dataset)*.2))\n",
    "test = dataset.skip(int(len(dataset)*.9)).take(int(len(dataset)*.1))"
   ],
   "metadata": {
    "id": "n-JYU0GUbeTT"
   },
   "execution_count": 122,
   "outputs": []
  },
  {
   "cell_type": "code",
   "source": [
    "len(test)\n"
   ],
   "metadata": {
    "colab": {
     "base_uri": "https://localhost:8080/"
    },
    "id": "-ObJrheBbf1d",
    "outputId": "47347f6c-1191-4f67-a687-24c1f303a255"
   },
   "execution_count": 123,
   "outputs": [
    {
     "output_type": "execute_result",
     "data": {
      "text/plain": [
       "997"
      ]
     },
     "metadata": {},
     "execution_count": 123
    }
   ]
  },
  {
   "cell_type": "code",
   "source": [
    "len(train)\n"
   ],
   "metadata": {
    "colab": {
     "base_uri": "https://localhost:8080/"
    },
    "id": "4khV_g6wdpJu",
    "outputId": "7d215e0b-8639-49dd-d2c5-53a01ecde67b"
   },
   "execution_count": 124,
   "outputs": [
    {
     "output_type": "execute_result",
     "data": {
      "text/plain": [
       "6981"
      ]
     },
     "metadata": {},
     "execution_count": 124
    }
   ]
  },
  {
   "cell_type": "code",
   "source": [
    "len(val)"
   ],
   "metadata": {
    "colab": {
     "base_uri": "https://localhost:8080/"
    },
    "id": "LTlg4SVLdqk-",
    "outputId": "aa05e4e8-bafb-40d2-c2f3-5ef08a5ca5ce"
   },
   "execution_count": 125,
   "outputs": [
    {
     "output_type": "execute_result",
     "data": {
      "text/plain": [
       "1994"
      ]
     },
     "metadata": {},
     "execution_count": 125
    }
   ]
  },
  {
   "cell_type": "code",
   "source": [
    "train_generator = train.as_numpy_iterator()"
   ],
   "metadata": {
    "id": "ekoKixkAbhQh"
   },
   "execution_count": 126,
   "outputs": []
  },
  {
   "cell_type": "code",
   "source": [
    "train_generator.next()"
   ],
   "metadata": {
    "colab": {
     "base_uri": "https://localhost:8080/"
    },
    "id": "G33Zz0m0e5pt",
    "outputId": "3a77de92-ffda-442f-d0dc-392917a35401"
   },
   "execution_count": 132,
   "outputs": [
    {
     "output_type": "execute_result",
     "data": {
      "text/plain": [
       "(array([[  1156,     18,    260, ...,      0,      0,      0],\n",
       "        [103811, 186338,  10760, ...,      0,      0,      0],\n",
       "        [ 10556,     20,     15, ...,      0,      0,      0],\n",
       "        ...,\n",
       "        [     1, 155059,    288, ...,      0,      0,      0],\n",
       "        [   288, 183241,      5, ...,      0,      0,      0],\n",
       "        [    73,     39,    106, ...,      0,      0,      0]]),\n",
       " array([[0, 0, 0, 0, 0, 0],\n",
       "        [0, 0, 0, 0, 0, 0],\n",
       "        [0, 0, 0, 0, 0, 0],\n",
       "        [0, 0, 0, 0, 0, 0],\n",
       "        [0, 0, 0, 0, 0, 0],\n",
       "        [1, 0, 1, 0, 1, 0],\n",
       "        [0, 0, 0, 0, 0, 0],\n",
       "        [0, 0, 0, 0, 0, 0],\n",
       "        [0, 0, 0, 0, 0, 0],\n",
       "        [0, 0, 0, 0, 0, 0],\n",
       "        [0, 0, 0, 0, 0, 0],\n",
       "        [0, 0, 0, 0, 0, 0],\n",
       "        [0, 0, 0, 0, 0, 0],\n",
       "        [0, 0, 0, 0, 0, 0],\n",
       "        [0, 0, 0, 0, 0, 0],\n",
       "        [0, 0, 0, 0, 0, 0]]))"
      ]
     },
     "metadata": {},
     "execution_count": 132
    }
   ]
  },
  {
   "cell_type": "code",
   "source": [
    "from tensorflow.keras.models import Sequential\n",
    "from tensorflow.keras.layers import LSTM, Dropout, Bidirectional, Dense, Embedding"
   ],
   "metadata": {
    "id": "Gjhg_HrDbi30"
   },
   "execution_count": 133,
   "outputs": []
  },
  {
   "cell_type": "code",
   "source": [
    "model = Sequential()\n",
    "# create the embedding layer\n",
    "model.add(Embedding(MAX_FEATURES+1, 32))\n",
    "# Bidrectional LSTM layer\n",
    "model.add(Bidirectional(LSTM(32, activation='tanh')))\n",
    "# feature extractor fully connected layers\n",
    "model.add(Dense(128, activation='relu'))\n",
    "model.add(Dense(256, activation='relu'))\n",
    "model.add(Dense(128, activation='relu'))\n",
    "model.add(Dense(6, activation='sigmoid'))"
   ],
   "metadata": {
    "id": "87VANLhwbkSA"
   },
   "execution_count": 134,
   "outputs": []
  },
  {
   "cell_type": "code",
   "source": [
    "model.compile(loss='BinaryCrossentropy', optimizer='Adam')"
   ],
   "metadata": {
    "id": "KoldxL-Ebl1Y"
   },
   "execution_count": 135,
   "outputs": []
  },
  {
   "cell_type": "code",
   "source": [
    "model.summary()"
   ],
   "metadata": {
    "colab": {
     "base_uri": "https://localhost:8080/",
     "height": 340
    },
    "id": "_JIsF9BAbnXT",
    "outputId": "fb57221b-e840-45a9-ddf9-5cc2daa03eba"
   },
   "execution_count": 136,
   "outputs": [
    {
     "output_type": "display_data",
     "data": {
      "text/plain": [
       "\u001B[1mModel: \"sequential_3\"\u001B[0m\n"
      ],
      "text/html": [
       "<pre style=\"white-space:pre;overflow-x:auto;line-height:normal;font-family:Menlo,'DejaVu Sans Mono',consolas,'Courier New',monospace\"><span style=\"font-weight: bold\">Model: \"sequential_3\"</span>\n",
       "</pre>\n"
      ]
     },
     "metadata": {}
    },
    {
     "output_type": "display_data",
     "data": {
      "text/plain": [
       "┏━━━━━━━━━━━━━━━━━━━━━━━━━━━━━━━━━━━━━━┳━━━━━━━━━━━━━━━━━━━━━━━━━━━━━┳━━━━━━━━━━━━━━━━━┓\n",
       "┃\u001B[1m \u001B[0m\u001B[1mLayer (type)                        \u001B[0m\u001B[1m \u001B[0m┃\u001B[1m \u001B[0m\u001B[1mOutput Shape               \u001B[0m\u001B[1m \u001B[0m┃\u001B[1m \u001B[0m\u001B[1m        Param #\u001B[0m\u001B[1m \u001B[0m┃\n",
       "┡━━━━━━━━━━━━━━━━━━━━━━━━━━━━━━━━━━━━━━╇━━━━━━━━━━━━━━━━━━━━━━━━━━━━━╇━━━━━━━━━━━━━━━━━┩\n",
       "│ embedding_3 (\u001B[38;5;33mEmbedding\u001B[0m)              │ ?                           │     \u001B[38;5;34m0\u001B[0m (unbuilt) │\n",
       "├──────────────────────────────────────┼─────────────────────────────┼─────────────────┤\n",
       "│ bidirectional_3 (\u001B[38;5;33mBidirectional\u001B[0m)      │ ?                           │     \u001B[38;5;34m0\u001B[0m (unbuilt) │\n",
       "├──────────────────────────────────────┼─────────────────────────────┼─────────────────┤\n",
       "│ dense_12 (\u001B[38;5;33mDense\u001B[0m)                     │ ?                           │     \u001B[38;5;34m0\u001B[0m (unbuilt) │\n",
       "├──────────────────────────────────────┼─────────────────────────────┼─────────────────┤\n",
       "│ dense_13 (\u001B[38;5;33mDense\u001B[0m)                     │ ?                           │     \u001B[38;5;34m0\u001B[0m (unbuilt) │\n",
       "├──────────────────────────────────────┼─────────────────────────────┼─────────────────┤\n",
       "│ dense_14 (\u001B[38;5;33mDense\u001B[0m)                     │ ?                           │     \u001B[38;5;34m0\u001B[0m (unbuilt) │\n",
       "├──────────────────────────────────────┼─────────────────────────────┼─────────────────┤\n",
       "│ dense_15 (\u001B[38;5;33mDense\u001B[0m)                     │ ?                           │     \u001B[38;5;34m0\u001B[0m (unbuilt) │\n",
       "└──────────────────────────────────────┴─────────────────────────────┴─────────────────┘\n"
      ],
      "text/html": [
       "<pre style=\"white-space:pre;overflow-x:auto;line-height:normal;font-family:Menlo,'DejaVu Sans Mono',consolas,'Courier New',monospace\">┏━━━━━━━━━━━━━━━━━━━━━━━━━━━━━━━━━━━━━━┳━━━━━━━━━━━━━━━━━━━━━━━━━━━━━┳━━━━━━━━━━━━━━━━━┓\n",
       "┃<span style=\"font-weight: bold\"> Layer (type)                         </span>┃<span style=\"font-weight: bold\"> Output Shape                </span>┃<span style=\"font-weight: bold\">         Param # </span>┃\n",
       "┡━━━━━━━━━━━━━━━━━━━━━━━━━━━━━━━━━━━━━━╇━━━━━━━━━━━━━━━━━━━━━━━━━━━━━╇━━━━━━━━━━━━━━━━━┩\n",
       "│ embedding_3 (<span style=\"color: #0087ff; text-decoration-color: #0087ff\">Embedding</span>)              │ ?                           │     <span style=\"color: #00af00; text-decoration-color: #00af00\">0</span> (unbuilt) │\n",
       "├──────────────────────────────────────┼─────────────────────────────┼─────────────────┤\n",
       "│ bidirectional_3 (<span style=\"color: #0087ff; text-decoration-color: #0087ff\">Bidirectional</span>)      │ ?                           │     <span style=\"color: #00af00; text-decoration-color: #00af00\">0</span> (unbuilt) │\n",
       "├──────────────────────────────────────┼─────────────────────────────┼─────────────────┤\n",
       "│ dense_12 (<span style=\"color: #0087ff; text-decoration-color: #0087ff\">Dense</span>)                     │ ?                           │     <span style=\"color: #00af00; text-decoration-color: #00af00\">0</span> (unbuilt) │\n",
       "├──────────────────────────────────────┼─────────────────────────────┼─────────────────┤\n",
       "│ dense_13 (<span style=\"color: #0087ff; text-decoration-color: #0087ff\">Dense</span>)                     │ ?                           │     <span style=\"color: #00af00; text-decoration-color: #00af00\">0</span> (unbuilt) │\n",
       "├──────────────────────────────────────┼─────────────────────────────┼─────────────────┤\n",
       "│ dense_14 (<span style=\"color: #0087ff; text-decoration-color: #0087ff\">Dense</span>)                     │ ?                           │     <span style=\"color: #00af00; text-decoration-color: #00af00\">0</span> (unbuilt) │\n",
       "├──────────────────────────────────────┼─────────────────────────────┼─────────────────┤\n",
       "│ dense_15 (<span style=\"color: #0087ff; text-decoration-color: #0087ff\">Dense</span>)                     │ ?                           │     <span style=\"color: #00af00; text-decoration-color: #00af00\">0</span> (unbuilt) │\n",
       "└──────────────────────────────────────┴─────────────────────────────┴─────────────────┘\n",
       "</pre>\n"
      ]
     },
     "metadata": {}
    },
    {
     "output_type": "display_data",
     "data": {
      "text/plain": [
       "\u001B[1m Total params: \u001B[0m\u001B[38;5;34m0\u001B[0m (0.00 B)\n"
      ],
      "text/html": [
       "<pre style=\"white-space:pre;overflow-x:auto;line-height:normal;font-family:Menlo,'DejaVu Sans Mono',consolas,'Courier New',monospace\"><span style=\"font-weight: bold\"> Total params: </span><span style=\"color: #00af00; text-decoration-color: #00af00\">0</span> (0.00 B)\n",
       "</pre>\n"
      ]
     },
     "metadata": {}
    },
    {
     "output_type": "display_data",
     "data": {
      "text/plain": [
       "\u001B[1m Trainable params: \u001B[0m\u001B[38;5;34m0\u001B[0m (0.00 B)\n"
      ],
      "text/html": [
       "<pre style=\"white-space:pre;overflow-x:auto;line-height:normal;font-family:Menlo,'DejaVu Sans Mono',consolas,'Courier New',monospace\"><span style=\"font-weight: bold\"> Trainable params: </span><span style=\"color: #00af00; text-decoration-color: #00af00\">0</span> (0.00 B)\n",
       "</pre>\n"
      ]
     },
     "metadata": {}
    },
    {
     "output_type": "display_data",
     "data": {
      "text/plain": [
       "\u001B[1m Non-trainable params: \u001B[0m\u001B[38;5;34m0\u001B[0m (0.00 B)\n"
      ],
      "text/html": [
       "<pre style=\"white-space:pre;overflow-x:auto;line-height:normal;font-family:Menlo,'DejaVu Sans Mono',consolas,'Courier New',monospace\"><span style=\"font-weight: bold\"> Non-trainable params: </span><span style=\"color: #00af00; text-decoration-color: #00af00\">0</span> (0.00 B)\n",
       "</pre>\n"
      ]
     },
     "metadata": {}
    }
   ]
  },
  {
   "cell_type": "code",
   "source": [
    "history = model.fit(train, epochs=10, validation_data=val)"
   ],
   "metadata": {
    "colab": {
     "base_uri": "https://localhost:8080/",
     "height": 321
    },
    "id": "K4VFs8zxbosK",
    "outputId": "d4438d9a-775c-4e55-d331-e89004922eea"
   },
   "execution_count": 137,
   "outputs": [
    {
     "output_type": "stream",
     "name": "stdout",
     "text": [
      "Epoch 1/10\n",
      "\u001B[1m2968/6981\u001B[0m \u001B[32m━━━━━━━━\u001B[0m\u001B[37m━━━━━━━━━━━━\u001B[0m \u001B[1m2:03:38\u001B[0m 2s/step - loss: 0.1083"
     ]
    },
    {
     "output_type": "error",
     "ename": "KeyboardInterrupt",
     "evalue": "",
     "traceback": [
      "\u001B[0;31m---------------------------------------------------------------------------\u001B[0m",
      "\u001B[0;31mKeyboardInterrupt\u001B[0m                         Traceback (most recent call last)",
      "\u001B[0;32m<ipython-input-137-c4cca2e6ef76>\u001B[0m in \u001B[0;36m<cell line: 1>\u001B[0;34m()\u001B[0m\n\u001B[0;32m----> 1\u001B[0;31m \u001B[0mhistory\u001B[0m \u001B[0;34m=\u001B[0m \u001B[0mmodel\u001B[0m\u001B[0;34m.\u001B[0m\u001B[0mfit\u001B[0m\u001B[0;34m(\u001B[0m\u001B[0mtrain\u001B[0m\u001B[0;34m,\u001B[0m \u001B[0mepochs\u001B[0m\u001B[0;34m=\u001B[0m\u001B[0;36m10\u001B[0m\u001B[0;34m,\u001B[0m \u001B[0mvalidation_data\u001B[0m\u001B[0;34m=\u001B[0m\u001B[0mval\u001B[0m\u001B[0;34m)\u001B[0m\u001B[0;34m\u001B[0m\u001B[0;34m\u001B[0m\u001B[0m\n\u001B[0m",
      "\u001B[0;32m/usr/local/lib/python3.10/dist-packages/keras/src/utils/traceback_utils.py\u001B[0m in \u001B[0;36merror_handler\u001B[0;34m(*args, **kwargs)\u001B[0m\n\u001B[1;32m    115\u001B[0m         \u001B[0mfiltered_tb\u001B[0m \u001B[0;34m=\u001B[0m \u001B[0;32mNone\u001B[0m\u001B[0;34m\u001B[0m\u001B[0;34m\u001B[0m\u001B[0m\n\u001B[1;32m    116\u001B[0m         \u001B[0;32mtry\u001B[0m\u001B[0;34m:\u001B[0m\u001B[0;34m\u001B[0m\u001B[0;34m\u001B[0m\u001B[0m\n\u001B[0;32m--> 117\u001B[0;31m             \u001B[0;32mreturn\u001B[0m \u001B[0mfn\u001B[0m\u001B[0;34m(\u001B[0m\u001B[0;34m*\u001B[0m\u001B[0margs\u001B[0m\u001B[0;34m,\u001B[0m \u001B[0;34m**\u001B[0m\u001B[0mkwargs\u001B[0m\u001B[0;34m)\u001B[0m\u001B[0;34m\u001B[0m\u001B[0;34m\u001B[0m\u001B[0m\n\u001B[0m\u001B[1;32m    118\u001B[0m         \u001B[0;32mexcept\u001B[0m \u001B[0mException\u001B[0m \u001B[0;32mas\u001B[0m \u001B[0me\u001B[0m\u001B[0;34m:\u001B[0m\u001B[0;34m\u001B[0m\u001B[0;34m\u001B[0m\u001B[0m\n\u001B[1;32m    119\u001B[0m             \u001B[0mfiltered_tb\u001B[0m \u001B[0;34m=\u001B[0m \u001B[0m_process_traceback_frames\u001B[0m\u001B[0;34m(\u001B[0m\u001B[0me\u001B[0m\u001B[0;34m.\u001B[0m\u001B[0m__traceback__\u001B[0m\u001B[0;34m)\u001B[0m\u001B[0;34m\u001B[0m\u001B[0;34m\u001B[0m\u001B[0m\n",
      "\u001B[0;32m/usr/local/lib/python3.10/dist-packages/keras/src/backend/tensorflow/trainer.py\u001B[0m in \u001B[0;36mfit\u001B[0;34m(self, x, y, batch_size, epochs, verbose, callbacks, validation_split, validation_data, shuffle, class_weight, sample_weight, initial_epoch, steps_per_epoch, validation_steps, validation_batch_size, validation_freq)\u001B[0m\n\u001B[1;32m    316\u001B[0m                 \u001B[0;32mfor\u001B[0m \u001B[0mstep\u001B[0m\u001B[0;34m,\u001B[0m \u001B[0miterator\u001B[0m \u001B[0;32min\u001B[0m \u001B[0mepoch_iterator\u001B[0m\u001B[0;34m.\u001B[0m\u001B[0menumerate_epoch\u001B[0m\u001B[0;34m(\u001B[0m\u001B[0;34m)\u001B[0m\u001B[0;34m:\u001B[0m\u001B[0;34m\u001B[0m\u001B[0;34m\u001B[0m\u001B[0m\n\u001B[1;32m    317\u001B[0m                     \u001B[0mcallbacks\u001B[0m\u001B[0;34m.\u001B[0m\u001B[0mon_train_batch_begin\u001B[0m\u001B[0;34m(\u001B[0m\u001B[0mstep\u001B[0m\u001B[0;34m)\u001B[0m\u001B[0;34m\u001B[0m\u001B[0;34m\u001B[0m\u001B[0m\n\u001B[0;32m--> 318\u001B[0;31m                     \u001B[0mlogs\u001B[0m \u001B[0;34m=\u001B[0m \u001B[0mself\u001B[0m\u001B[0;34m.\u001B[0m\u001B[0mtrain_function\u001B[0m\u001B[0;34m(\u001B[0m\u001B[0miterator\u001B[0m\u001B[0;34m)\u001B[0m\u001B[0;34m\u001B[0m\u001B[0;34m\u001B[0m\u001B[0m\n\u001B[0m\u001B[1;32m    319\u001B[0m                     \u001B[0mlogs\u001B[0m \u001B[0;34m=\u001B[0m \u001B[0mself\u001B[0m\u001B[0;34m.\u001B[0m\u001B[0m_pythonify_logs\u001B[0m\u001B[0;34m(\u001B[0m\u001B[0mlogs\u001B[0m\u001B[0;34m)\u001B[0m\u001B[0;34m\u001B[0m\u001B[0;34m\u001B[0m\u001B[0m\n\u001B[1;32m    320\u001B[0m                     \u001B[0mcallbacks\u001B[0m\u001B[0;34m.\u001B[0m\u001B[0mon_train_batch_end\u001B[0m\u001B[0;34m(\u001B[0m\u001B[0mstep\u001B[0m\u001B[0;34m,\u001B[0m \u001B[0mlogs\u001B[0m\u001B[0;34m)\u001B[0m\u001B[0;34m\u001B[0m\u001B[0;34m\u001B[0m\u001B[0m\n",
      "\u001B[0;32m/usr/local/lib/python3.10/dist-packages/tensorflow/python/util/traceback_utils.py\u001B[0m in \u001B[0;36merror_handler\u001B[0;34m(*args, **kwargs)\u001B[0m\n\u001B[1;32m    148\u001B[0m     \u001B[0mfiltered_tb\u001B[0m \u001B[0;34m=\u001B[0m \u001B[0;32mNone\u001B[0m\u001B[0;34m\u001B[0m\u001B[0;34m\u001B[0m\u001B[0m\n\u001B[1;32m    149\u001B[0m     \u001B[0;32mtry\u001B[0m\u001B[0;34m:\u001B[0m\u001B[0;34m\u001B[0m\u001B[0;34m\u001B[0m\u001B[0m\n\u001B[0;32m--> 150\u001B[0;31m       \u001B[0;32mreturn\u001B[0m \u001B[0mfn\u001B[0m\u001B[0;34m(\u001B[0m\u001B[0;34m*\u001B[0m\u001B[0margs\u001B[0m\u001B[0;34m,\u001B[0m \u001B[0;34m**\u001B[0m\u001B[0mkwargs\u001B[0m\u001B[0;34m)\u001B[0m\u001B[0;34m\u001B[0m\u001B[0;34m\u001B[0m\u001B[0m\n\u001B[0m\u001B[1;32m    151\u001B[0m     \u001B[0;32mexcept\u001B[0m \u001B[0mException\u001B[0m \u001B[0;32mas\u001B[0m \u001B[0me\u001B[0m\u001B[0;34m:\u001B[0m\u001B[0;34m\u001B[0m\u001B[0;34m\u001B[0m\u001B[0m\n\u001B[1;32m    152\u001B[0m       \u001B[0mfiltered_tb\u001B[0m \u001B[0;34m=\u001B[0m \u001B[0m_process_traceback_frames\u001B[0m\u001B[0;34m(\u001B[0m\u001B[0me\u001B[0m\u001B[0;34m.\u001B[0m\u001B[0m__traceback__\u001B[0m\u001B[0;34m)\u001B[0m\u001B[0;34m\u001B[0m\u001B[0;34m\u001B[0m\u001B[0m\n",
      "\u001B[0;32m/usr/local/lib/python3.10/dist-packages/tensorflow/python/eager/polymorphic_function/polymorphic_function.py\u001B[0m in \u001B[0;36m__call__\u001B[0;34m(self, *args, **kwds)\u001B[0m\n\u001B[1;32m    831\u001B[0m \u001B[0;34m\u001B[0m\u001B[0m\n\u001B[1;32m    832\u001B[0m       \u001B[0;32mwith\u001B[0m \u001B[0mOptionalXlaContext\u001B[0m\u001B[0;34m(\u001B[0m\u001B[0mself\u001B[0m\u001B[0;34m.\u001B[0m\u001B[0m_jit_compile\u001B[0m\u001B[0;34m)\u001B[0m\u001B[0;34m:\u001B[0m\u001B[0;34m\u001B[0m\u001B[0;34m\u001B[0m\u001B[0m\n\u001B[0;32m--> 833\u001B[0;31m         \u001B[0mresult\u001B[0m \u001B[0;34m=\u001B[0m \u001B[0mself\u001B[0m\u001B[0;34m.\u001B[0m\u001B[0m_call\u001B[0m\u001B[0;34m(\u001B[0m\u001B[0;34m*\u001B[0m\u001B[0margs\u001B[0m\u001B[0;34m,\u001B[0m \u001B[0;34m**\u001B[0m\u001B[0mkwds\u001B[0m\u001B[0;34m)\u001B[0m\u001B[0;34m\u001B[0m\u001B[0;34m\u001B[0m\u001B[0m\n\u001B[0m\u001B[1;32m    834\u001B[0m \u001B[0;34m\u001B[0m\u001B[0m\n\u001B[1;32m    835\u001B[0m       \u001B[0mnew_tracing_count\u001B[0m \u001B[0;34m=\u001B[0m \u001B[0mself\u001B[0m\u001B[0;34m.\u001B[0m\u001B[0mexperimental_get_tracing_count\u001B[0m\u001B[0;34m(\u001B[0m\u001B[0;34m)\u001B[0m\u001B[0;34m\u001B[0m\u001B[0;34m\u001B[0m\u001B[0m\n",
      "\u001B[0;32m/usr/local/lib/python3.10/dist-packages/tensorflow/python/eager/polymorphic_function/polymorphic_function.py\u001B[0m in \u001B[0;36m_call\u001B[0;34m(self, *args, **kwds)\u001B[0m\n\u001B[1;32m    876\u001B[0m       \u001B[0;31m# In this case we have not created variables on the first call. So we can\u001B[0m\u001B[0;34m\u001B[0m\u001B[0;34m\u001B[0m\u001B[0m\n\u001B[1;32m    877\u001B[0m       \u001B[0;31m# run the first trace but we should fail if variables are created.\u001B[0m\u001B[0;34m\u001B[0m\u001B[0;34m\u001B[0m\u001B[0m\n\u001B[0;32m--> 878\u001B[0;31m       results = tracing_compilation.call_function(\n\u001B[0m\u001B[1;32m    879\u001B[0m           \u001B[0margs\u001B[0m\u001B[0;34m,\u001B[0m \u001B[0mkwds\u001B[0m\u001B[0;34m,\u001B[0m \u001B[0mself\u001B[0m\u001B[0;34m.\u001B[0m\u001B[0m_variable_creation_config\u001B[0m\u001B[0;34m\u001B[0m\u001B[0;34m\u001B[0m\u001B[0m\n\u001B[1;32m    880\u001B[0m       )\n",
      "\u001B[0;32m/usr/local/lib/python3.10/dist-packages/tensorflow/python/eager/polymorphic_function/tracing_compilation.py\u001B[0m in \u001B[0;36mcall_function\u001B[0;34m(args, kwargs, tracing_options)\u001B[0m\n\u001B[1;32m    137\u001B[0m   \u001B[0mbound_args\u001B[0m \u001B[0;34m=\u001B[0m \u001B[0mfunction\u001B[0m\u001B[0;34m.\u001B[0m\u001B[0mfunction_type\u001B[0m\u001B[0;34m.\u001B[0m\u001B[0mbind\u001B[0m\u001B[0;34m(\u001B[0m\u001B[0;34m*\u001B[0m\u001B[0margs\u001B[0m\u001B[0;34m,\u001B[0m \u001B[0;34m**\u001B[0m\u001B[0mkwargs\u001B[0m\u001B[0;34m)\u001B[0m\u001B[0;34m\u001B[0m\u001B[0;34m\u001B[0m\u001B[0m\n\u001B[1;32m    138\u001B[0m   \u001B[0mflat_inputs\u001B[0m \u001B[0;34m=\u001B[0m \u001B[0mfunction\u001B[0m\u001B[0;34m.\u001B[0m\u001B[0mfunction_type\u001B[0m\u001B[0;34m.\u001B[0m\u001B[0munpack_inputs\u001B[0m\u001B[0;34m(\u001B[0m\u001B[0mbound_args\u001B[0m\u001B[0;34m)\u001B[0m\u001B[0;34m\u001B[0m\u001B[0;34m\u001B[0m\u001B[0m\n\u001B[0;32m--> 139\u001B[0;31m   return function._call_flat(  # pylint: disable=protected-access\n\u001B[0m\u001B[1;32m    140\u001B[0m       \u001B[0mflat_inputs\u001B[0m\u001B[0;34m,\u001B[0m \u001B[0mcaptured_inputs\u001B[0m\u001B[0;34m=\u001B[0m\u001B[0mfunction\u001B[0m\u001B[0;34m.\u001B[0m\u001B[0mcaptured_inputs\u001B[0m\u001B[0;34m\u001B[0m\u001B[0;34m\u001B[0m\u001B[0m\n\u001B[1;32m    141\u001B[0m   )\n",
      "\u001B[0;32m/usr/local/lib/python3.10/dist-packages/tensorflow/python/eager/polymorphic_function/concrete_function.py\u001B[0m in \u001B[0;36m_call_flat\u001B[0;34m(self, tensor_inputs, captured_inputs)\u001B[0m\n\u001B[1;32m   1320\u001B[0m         and executing_eagerly):\n\u001B[1;32m   1321\u001B[0m       \u001B[0;31m# No tape is watching; skip to running the function.\u001B[0m\u001B[0;34m\u001B[0m\u001B[0;34m\u001B[0m\u001B[0m\n\u001B[0;32m-> 1322\u001B[0;31m       \u001B[0;32mreturn\u001B[0m \u001B[0mself\u001B[0m\u001B[0;34m.\u001B[0m\u001B[0m_inference_function\u001B[0m\u001B[0;34m.\u001B[0m\u001B[0mcall_preflattened\u001B[0m\u001B[0;34m(\u001B[0m\u001B[0margs\u001B[0m\u001B[0;34m)\u001B[0m\u001B[0;34m\u001B[0m\u001B[0;34m\u001B[0m\u001B[0m\n\u001B[0m\u001B[1;32m   1323\u001B[0m     forward_backward = self._select_forward_and_backward_functions(\n\u001B[1;32m   1324\u001B[0m         \u001B[0margs\u001B[0m\u001B[0;34m,\u001B[0m\u001B[0;34m\u001B[0m\u001B[0;34m\u001B[0m\u001B[0m\n",
      "\u001B[0;32m/usr/local/lib/python3.10/dist-packages/tensorflow/python/eager/polymorphic_function/atomic_function.py\u001B[0m in \u001B[0;36mcall_preflattened\u001B[0;34m(self, args)\u001B[0m\n\u001B[1;32m    214\u001B[0m   \u001B[0;32mdef\u001B[0m \u001B[0mcall_preflattened\u001B[0m\u001B[0;34m(\u001B[0m\u001B[0mself\u001B[0m\u001B[0;34m,\u001B[0m \u001B[0margs\u001B[0m\u001B[0;34m:\u001B[0m \u001B[0mSequence\u001B[0m\u001B[0;34m[\u001B[0m\u001B[0mcore\u001B[0m\u001B[0;34m.\u001B[0m\u001B[0mTensor\u001B[0m\u001B[0;34m]\u001B[0m\u001B[0;34m)\u001B[0m \u001B[0;34m->\u001B[0m \u001B[0mAny\u001B[0m\u001B[0;34m:\u001B[0m\u001B[0;34m\u001B[0m\u001B[0;34m\u001B[0m\u001B[0m\n\u001B[1;32m    215\u001B[0m     \u001B[0;34m\"\"\"Calls with flattened tensor inputs and returns the structured output.\"\"\"\u001B[0m\u001B[0;34m\u001B[0m\u001B[0;34m\u001B[0m\u001B[0m\n\u001B[0;32m--> 216\u001B[0;31m     \u001B[0mflat_outputs\u001B[0m \u001B[0;34m=\u001B[0m \u001B[0mself\u001B[0m\u001B[0;34m.\u001B[0m\u001B[0mcall_flat\u001B[0m\u001B[0;34m(\u001B[0m\u001B[0;34m*\u001B[0m\u001B[0margs\u001B[0m\u001B[0;34m)\u001B[0m\u001B[0;34m\u001B[0m\u001B[0;34m\u001B[0m\u001B[0m\n\u001B[0m\u001B[1;32m    217\u001B[0m     \u001B[0;32mreturn\u001B[0m \u001B[0mself\u001B[0m\u001B[0;34m.\u001B[0m\u001B[0mfunction_type\u001B[0m\u001B[0;34m.\u001B[0m\u001B[0mpack_output\u001B[0m\u001B[0;34m(\u001B[0m\u001B[0mflat_outputs\u001B[0m\u001B[0;34m)\u001B[0m\u001B[0;34m\u001B[0m\u001B[0;34m\u001B[0m\u001B[0m\n\u001B[1;32m    218\u001B[0m \u001B[0;34m\u001B[0m\u001B[0m\n",
      "\u001B[0;32m/usr/local/lib/python3.10/dist-packages/tensorflow/python/eager/polymorphic_function/atomic_function.py\u001B[0m in \u001B[0;36mcall_flat\u001B[0;34m(self, *args)\u001B[0m\n\u001B[1;32m    249\u001B[0m         \u001B[0;32mwith\u001B[0m \u001B[0mrecord\u001B[0m\u001B[0;34m.\u001B[0m\u001B[0mstop_recording\u001B[0m\u001B[0;34m(\u001B[0m\u001B[0;34m)\u001B[0m\u001B[0;34m:\u001B[0m\u001B[0;34m\u001B[0m\u001B[0;34m\u001B[0m\u001B[0m\n\u001B[1;32m    250\u001B[0m           \u001B[0;32mif\u001B[0m \u001B[0mself\u001B[0m\u001B[0;34m.\u001B[0m\u001B[0m_bound_context\u001B[0m\u001B[0;34m.\u001B[0m\u001B[0mexecuting_eagerly\u001B[0m\u001B[0;34m(\u001B[0m\u001B[0;34m)\u001B[0m\u001B[0;34m:\u001B[0m\u001B[0;34m\u001B[0m\u001B[0;34m\u001B[0m\u001B[0m\n\u001B[0;32m--> 251\u001B[0;31m             outputs = self._bound_context.call_function(\n\u001B[0m\u001B[1;32m    252\u001B[0m                 \u001B[0mself\u001B[0m\u001B[0;34m.\u001B[0m\u001B[0mname\u001B[0m\u001B[0;34m,\u001B[0m\u001B[0;34m\u001B[0m\u001B[0;34m\u001B[0m\u001B[0m\n\u001B[1;32m    253\u001B[0m                 \u001B[0mlist\u001B[0m\u001B[0;34m(\u001B[0m\u001B[0margs\u001B[0m\u001B[0;34m)\u001B[0m\u001B[0;34m,\u001B[0m\u001B[0;34m\u001B[0m\u001B[0;34m\u001B[0m\u001B[0m\n",
      "\u001B[0;32m/usr/local/lib/python3.10/dist-packages/tensorflow/python/eager/context.py\u001B[0m in \u001B[0;36mcall_function\u001B[0;34m(self, name, tensor_inputs, num_outputs)\u001B[0m\n\u001B[1;32m   1550\u001B[0m     \u001B[0mcancellation_context\u001B[0m \u001B[0;34m=\u001B[0m \u001B[0mcancellation\u001B[0m\u001B[0;34m.\u001B[0m\u001B[0mcontext\u001B[0m\u001B[0;34m(\u001B[0m\u001B[0;34m)\u001B[0m\u001B[0;34m\u001B[0m\u001B[0;34m\u001B[0m\u001B[0m\n\u001B[1;32m   1551\u001B[0m     \u001B[0;32mif\u001B[0m \u001B[0mcancellation_context\u001B[0m \u001B[0;32mis\u001B[0m \u001B[0;32mNone\u001B[0m\u001B[0;34m:\u001B[0m\u001B[0;34m\u001B[0m\u001B[0;34m\u001B[0m\u001B[0m\n\u001B[0;32m-> 1552\u001B[0;31m       outputs = execute.execute(\n\u001B[0m\u001B[1;32m   1553\u001B[0m           \u001B[0mname\u001B[0m\u001B[0;34m.\u001B[0m\u001B[0mdecode\u001B[0m\u001B[0;34m(\u001B[0m\u001B[0;34m\"utf-8\"\u001B[0m\u001B[0;34m)\u001B[0m\u001B[0;34m,\u001B[0m\u001B[0;34m\u001B[0m\u001B[0;34m\u001B[0m\u001B[0m\n\u001B[1;32m   1554\u001B[0m           \u001B[0mnum_outputs\u001B[0m\u001B[0;34m=\u001B[0m\u001B[0mnum_outputs\u001B[0m\u001B[0;34m,\u001B[0m\u001B[0;34m\u001B[0m\u001B[0;34m\u001B[0m\u001B[0m\n",
      "\u001B[0;32m/usr/local/lib/python3.10/dist-packages/tensorflow/python/eager/execute.py\u001B[0m in \u001B[0;36mquick_execute\u001B[0;34m(op_name, num_outputs, inputs, attrs, ctx, name)\u001B[0m\n\u001B[1;32m     51\u001B[0m   \u001B[0;32mtry\u001B[0m\u001B[0;34m:\u001B[0m\u001B[0;34m\u001B[0m\u001B[0;34m\u001B[0m\u001B[0m\n\u001B[1;32m     52\u001B[0m     \u001B[0mctx\u001B[0m\u001B[0;34m.\u001B[0m\u001B[0mensure_initialized\u001B[0m\u001B[0;34m(\u001B[0m\u001B[0;34m)\u001B[0m\u001B[0;34m\u001B[0m\u001B[0;34m\u001B[0m\u001B[0m\n\u001B[0;32m---> 53\u001B[0;31m     tensors = pywrap_tfe.TFE_Py_Execute(ctx._handle, device_name, op_name,\n\u001B[0m\u001B[1;32m     54\u001B[0m                                         inputs, attrs, num_outputs)\n\u001B[1;32m     55\u001B[0m   \u001B[0;32mexcept\u001B[0m \u001B[0mcore\u001B[0m\u001B[0;34m.\u001B[0m\u001B[0m_NotOkStatusException\u001B[0m \u001B[0;32mas\u001B[0m \u001B[0me\u001B[0m\u001B[0;34m:\u001B[0m\u001B[0;34m\u001B[0m\u001B[0;34m\u001B[0m\u001B[0m\n",
      "\u001B[0;31mKeyboardInterrupt\u001B[0m: "
     ]
    }
   ]
  },
  {
   "cell_type": "code",
   "source": [
    "from matplotlib import pyplot as plt"
   ],
   "metadata": {
    "id": "5FSRcEoDbqYB"
   },
   "execution_count": null,
   "outputs": []
  },
  {
   "cell_type": "code",
   "source": [
    "plt.figure(figsize=(8,5))\n",
    "pd.DataFrame(history.history).plot()\n",
    "plt.show()"
   ],
   "metadata": {
    "id": "ACBOE-nHlUBk"
   },
   "execution_count": null,
   "outputs": []
  },
  {
   "cell_type": "code",
   "source": [
    "input_text = vectorizer('You freaking suck! I am going to hit you.')"
   ],
   "metadata": {
    "id": "0N93S-3UlWj7"
   },
   "execution_count": null,
   "outputs": []
  },
  {
   "cell_type": "code",
   "source": [
    "res = model.predict(input_text)"
   ],
   "metadata": {
    "id": "nUGCbgZ_laje"
   },
   "execution_count": null,
   "outputs": []
  },
  {
   "cell_type": "code",
   "source": [
    "(res > 0.5).astype(int)"
   ],
   "metadata": {
    "id": "irx-XbH-lbHF"
   },
   "execution_count": null,
   "outputs": []
  },
  {
   "cell_type": "code",
   "source": [
    "batch_X, batch_y = test.as_numpy_iterator().next()"
   ],
   "metadata": {
    "id": "oB2Zzgw0lebb"
   },
   "execution_count": null,
   "outputs": []
  },
  {
   "cell_type": "code",
   "source": [
    "(model.predict(batch_X) > 0.5).astype(int)"
   ],
   "metadata": {
    "id": "h41W3TAelgHt"
   },
   "execution_count": null,
   "outputs": []
  },
  {
   "cell_type": "code",
   "source": [
    "res.shape"
   ],
   "metadata": {
    "id": "kUukXkxRlh7I"
   },
   "execution_count": null,
   "outputs": []
  },
  {
   "cell_type": "code",
   "source": [
    "from tensorflow.keras.metrics import Precision, Recall, CategoricalAccuracy"
   ],
   "metadata": {
    "id": "2V-l7tFRljmn"
   },
   "execution_count": null,
   "outputs": []
  },
  {
   "cell_type": "code",
   "source": [
    "pre = Precision()\n",
    "re = Recall()\n",
    "acc = CategoricalAccuracy()"
   ],
   "metadata": {
    "id": "eBK9rc4elmSX"
   },
   "execution_count": null,
   "outputs": []
  },
  {
   "cell_type": "code",
   "source": [
    "for batch in test.as_numpy_iterator():\n",
    "    # Unpack the batch\n",
    "    X_true, y_true = batch\n",
    "    # Make a prediction\n",
    "    yhat = model.predict(X_true)\n",
    "\n",
    "    # Flatten the predictions\n",
    "    y_true = y_true.flatten()\n",
    "    yhat = yhat.flatten()\n",
    "\n",
    "    pre.update_state(y_true, yhat)\n",
    "    re.update_state(y_true, yhat)\n",
    "    acc.update_state(y_true, yhat)"
   ],
   "metadata": {
    "id": "WE5Krw8klow_"
   },
   "execution_count": null,
   "outputs": []
  },
  {
   "cell_type": "code",
   "source": [
    "print(f'Precision: {pre.result().numpy()}, Recall:{re.result().numpy()}, Accuracy:{acc.result().numpy()}')"
   ],
   "metadata": {
    "id": "ZOB9RyJEltJQ"
   },
   "execution_count": null,
   "outputs": []
  },
  {
   "cell_type": "code",
   "source": "",
   "metadata": {
    "id": "o-LTfYlvlvgX"
   },
   "execution_count": null,
   "outputs": []
  },
  {
   "cell_type": "code",
   "source": "",
   "metadata": {
    "id": "Kf4tXNRmlvph"
   },
   "execution_count": null,
   "outputs": []
  },
  {
   "cell_type": "code",
   "source": [
    "model.save('toxicity.keras')"
   ],
   "metadata": {
    "id": "U6aDwNUEnPox"
   },
   "execution_count": null,
   "outputs": []
  },
  {
   "cell_type": "code",
   "source": [
    "model.save('toxicity.h5')"
   ],
   "metadata": {
    "id": "jysFG1TYlv1G"
   },
   "execution_count": null,
   "outputs": []
  },
  {
   "cell_type": "code",
   "source": [
    "model = tf.keras.models.load_model('toxicity.h5')"
   ],
   "metadata": {
    "id": "PoNUtp_elv4e"
   },
   "execution_count": null,
   "outputs": []
  },
  {
   "cell_type": "code",
   "source": [
    "input_str = vectorizer('hey i freaken hate you!')"
   ],
   "metadata": {
    "id": "SAwf0Zxclv__"
   },
   "execution_count": null,
   "outputs": []
  },
  {
   "cell_type": "code",
   "source": [
    "res = model.predict(np.expand_dims(input_str,0))"
   ],
   "metadata": {
    "id": "t0IfhWislwC6"
   },
   "execution_count": null,
   "outputs": []
  },
  {
   "cell_type": "code",
   "source": [
    "res"
   ],
   "metadata": {
    "id": "yuVMn4jLlwHn"
   },
   "execution_count": null,
   "outputs": []
  },
  {
   "cell_type": "code",
   "source": [
    "def score_comment(comment):\n",
    "    vectorized_comment = vectorizer([comment])\n",
    "    results = model.predict(vectorized_comment)\n",
    "\n",
    "    text = ''\n",
    "    for idx, col in enumerate(df.columns[2:]):\n",
    "        text += '{}: {}\\n'.format(col, results[0][idx]>0.5)\n",
    "\n",
    "    return text"
   ],
   "metadata": {
    "id": "wn1EOHRklwMx"
   },
   "execution_count": null,
   "outputs": []
  },
  {
   "cell_type": "code",
   "source": [
    "\n",
    "interface = gr.Interface(fn=score_comment,\n",
    "                         inputs=gr.inputs.Textbox(lines=2, placeholder='Comment to score'),\n",
    "                        outputs='text')"
   ],
   "metadata": {
    "id": "h4SWGbKXlwPl"
   },
   "execution_count": null,
   "outputs": []
  },
  {
   "cell_type": "code",
   "source": [
    "interface.launch(share=True)"
   ],
   "metadata": {
    "id": "CP6fOiftlwSV"
   },
   "execution_count": null,
   "outputs": []
  },
  {
   "cell_type": "code",
   "source": [],
   "metadata": {
    "id": "lZdWyDDOlwVI"
   },
   "execution_count": null,
   "outputs": []
  }
 ]
}
