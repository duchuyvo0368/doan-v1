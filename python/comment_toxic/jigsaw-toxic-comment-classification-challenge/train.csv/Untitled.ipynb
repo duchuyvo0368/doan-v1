{
 "cells": [
  {
   "cell_type": "code",
   "execution_count": 5,
   "id": "18275f42-84f1-4578-9d7c-937175c615cb",
   "metadata": {},
   "outputs": [
    {
     "name": "stdout",
     "output_type": "stream",
     "text": [
      "REPLY ABOVE:\n",
      "That was me, loser. The UN defines Vietnam to be part of Southeast Asia. And far as I know Vietnam is part of ASEAN, and used to be part of French Indochina with Laos and all those shit countries Anyway your culture has always been more influenced by SEA than Han Chinese (as in proper Yangtze Han Chinese, not the fringe indigenous tribes in Guangzhou/Guangxi). \n",
      "\n",
      "Just admit that you vietnamese are all a bunch of wannabe crap people. ALL the east asian people I've spoken to thinks of Vietnam as a very integral part of SEA, and we all think you're backward, dirty and speak in a horrible swearing language. Doesn't matter what crap you spout on Wikipedia, won't change the way people in the real world think.\n"
     ]
    }
   ],
   "source": [
    "import pandas as pd\n",
    "\n",
    "# Giả sử df là DataFrame của bạn\n",
    "df = pd.read_csv('train.csv')\n",
    "\n",
    "# Lấy ra dòng thứ 180 (chỉ số bắt đầu từ 0 nên dòng thứ 180 là dòng có index 179)\n",
    "row_180 = df.loc[179,'comment_text']\n",
    "\n",
    "print(row_180)\n"
   ]
  },
  {
   "cell_type": "code",
   "execution_count": null,
   "id": "d983c5c5-77ad-406d-97ef-1207a82e0e80",
   "metadata": {},
   "outputs": [],
   "source": []
  }
 ],
 "metadata": {
  "kernelspec": {
   "display_name": "Python 3 (ipykernel)",
   "language": "python",
   "name": "python3"
  },
  "language_info": {
   "codemirror_mode": {
    "name": "ipython",
    "version": 3
   },
   "file_extension": ".py",
   "mimetype": "text/x-python",
   "name": "python",
   "nbconvert_exporter": "python",
   "pygments_lexer": "ipython3",
   "version": "3.12.4"
  }
 },
 "nbformat": 4,
 "nbformat_minor": 5
}
